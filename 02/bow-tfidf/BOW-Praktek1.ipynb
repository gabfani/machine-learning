{
 "cells": [
  {
   "cell_type": "markdown",
   "metadata": {},
   "source": [
    "Praktek BOW\n",
    "=============================\n",
    "\n",
    "***Universitas Dian Nuswantoro***"
   ]
  },
  {
   "cell_type": "code",
   "execution_count": 1,
   "metadata": {},
   "outputs": [],
   "source": [
    "import pandas as pd\n",
    "import numpy as np"
   ]
  },
  {
   "cell_type": "code",
   "execution_count": 2,
   "metadata": {},
   "outputs": [],
   "source": [
    "dataset = pd.read_csv('clean_dataset_stem.csv',sep=';')"
   ]
  },
  {
   "cell_type": "code",
   "execution_count": 3,
   "metadata": {},
   "outputs": [
    {
     "data": {
      "text/plain": [
       "(902, 10)"
      ]
     },
     "execution_count": 3,
     "metadata": {},
     "output_type": "execute_result"
    }
   ],
   "source": [
    "dataset.shape"
   ]
  },
  {
   "cell_type": "code",
   "execution_count": 4,
   "metadata": {},
   "outputs": [
    {
     "data": {
      "text/html": [
       "<div>\n",
       "<style scoped>\n",
       "    .dataframe tbody tr th:only-of-type {\n",
       "        vertical-align: middle;\n",
       "    }\n",
       "\n",
       "    .dataframe tbody tr th {\n",
       "        vertical-align: top;\n",
       "    }\n",
       "\n",
       "    .dataframe thead th {\n",
       "        text-align: right;\n",
       "    }\n",
       "</style>\n",
       "<table border=\"1\" class=\"dataframe\">\n",
       "  <thead>\n",
       "    <tr style=\"text-align: right;\">\n",
       "      <th></th>\n",
       "      <th>Unnamed: 0.1</th>\n",
       "      <th>Unnamed: 0</th>\n",
       "      <th>Tweet</th>\n",
       "      <th>Sentimen</th>\n",
       "      <th>step01</th>\n",
       "      <th>tokens</th>\n",
       "      <th>final_tokens</th>\n",
       "      <th>step02</th>\n",
       "      <th>finalText_str</th>\n",
       "      <th>ProcessedText</th>\n",
       "    </tr>\n",
       "  </thead>\n",
       "  <tbody>\n",
       "    <tr>\n",
       "      <th>0</th>\n",
       "      <td>0</td>\n",
       "      <td>0</td>\n",
       "      <td>Cegah mata rantai Covid-19,mari kita dirumah s...</td>\n",
       "      <td>1.0</td>\n",
       "      <td>cegah mata rantai covid   mari kita dirumah sa...</td>\n",
       "      <td>['cegah', 'mata', 'rantai', 'covid', 'mari', '...</td>\n",
       "      <td>['cegah', 'mata', 'rantai', 'covid', 'mari', '...</td>\n",
       "      <td>cegah mata rantai covid mari kita dirumah saja...</td>\n",
       "      <td>cegah mata rantai covid mari kita dirumah saja...</td>\n",
       "      <td>cegah mata rantai covid kita rumah hingga hari...</td>\n",
       "    </tr>\n",
       "    <tr>\n",
       "      <th>1</th>\n",
       "      <td>1</td>\n",
       "      <td>1</td>\n",
       "      <td>aku mohon yaAllah semoga wabah covid-19 menghi...</td>\n",
       "      <td>1.0</td>\n",
       "      <td>aku mohon yaallah semoga wabah covid   menghil...</td>\n",
       "      <td>['aku', 'mohon', 'yaallah', 'semoga', 'wabah',...</td>\n",
       "      <td>['aku', 'mohon', 'yaallah', 'semoga', 'wabah',...</td>\n",
       "      <td>aku mohon yaallah semoga wabah covid menghilan...</td>\n",
       "      <td>aku mohon yaallah semoga wabah covid menghilan...</td>\n",
       "      <td>aku mohon yaallah moga wabah covid hilang rama...</td>\n",
       "    </tr>\n",
       "    <tr>\n",
       "      <th>2</th>\n",
       "      <td>2</td>\n",
       "      <td>2</td>\n",
       "      <td>Pemprov Papua Naikkan Status Jadi Tanggap Daru...</td>\n",
       "      <td>1.0</td>\n",
       "      <td>pemprov papua naikkan status jadi tanggap daru...</td>\n",
       "      <td>['pemprov', 'papua', 'naikkan', 'status', 'jad...</td>\n",
       "      <td>['pemprov', 'papua', 'naikkan', 'status', 'jad...</td>\n",
       "      <td>pemprov papua naikkan status jadi tanggap daru...</td>\n",
       "      <td>pemprov papua naikkan status jadi tanggap daru...</td>\n",
       "      <td>pemprov papua naik status jadi tanggap darurat...</td>\n",
       "    </tr>\n",
       "    <tr>\n",
       "      <th>3</th>\n",
       "      <td>3</td>\n",
       "      <td>3</td>\n",
       "      <td>Covid belum nyampe prigen mbak hmm hoax</td>\n",
       "      <td>0.0</td>\n",
       "      <td>covid belum nyampe prigen mbak hmm hoax</td>\n",
       "      <td>['covid', 'belum', 'nyampe', 'prigen', 'mbak',...</td>\n",
       "      <td>['covid', 'belum', 'nyampe', 'prigen', 'mbak',...</td>\n",
       "      <td>covid belum nyampe prigen mbak hmm hoax</td>\n",
       "      <td>covid belum nyampe prigen mbak hmm hoax</td>\n",
       "      <td>covid nyampe prigen mbak hmm hoax</td>\n",
       "    </tr>\n",
       "    <tr>\n",
       "      <th>4</th>\n",
       "      <td>4</td>\n",
       "      <td>4</td>\n",
       "      <td>Nyuruh orang pintar, lu aja Togog. Itu kerumun...</td>\n",
       "      <td>-1.0</td>\n",
       "      <td>nyuruh orang pintar lu aja togog itu kerumunan...</td>\n",
       "      <td>['nyuruh', 'orang', 'pintar', 'lu', 'aja', 'to...</td>\n",
       "      <td>['nyuruh', 'orang', 'pintar', 'lu', 'aja', 'to...</td>\n",
       "      <td>nyuruh orang pintar lu aja togog itu kerumunan...</td>\n",
       "      <td>nyuruh orang pintar lu aja togog itu kerumunan...</td>\n",
       "      <td>nyuruh orang pintar lu aja togog kerumun orang...</td>\n",
       "    </tr>\n",
       "    <tr>\n",
       "      <th>5</th>\n",
       "      <td>5</td>\n",
       "      <td>5</td>\n",
       "      <td>Pikir2 balik byk mnde plk nk setelkn lepas covid.</td>\n",
       "      <td>0.0</td>\n",
       "      <td>pikir balik byk mnde plk nk setelkn lepas covid</td>\n",
       "      <td>['pikir', 'balik', 'byk', 'mnde', 'plk', 'nk',...</td>\n",
       "      <td>['pikir', 'balik', 'byk', 'mnde', 'plk', 'nk',...</td>\n",
       "      <td>pikir balik byk mnde plk nk setelkn lepas covid</td>\n",
       "      <td>pikir balik byk mnde plk nk setelkn lepas covid</td>\n",
       "      <td>pikir balik byk mnde plk nk setelkn lepas covid</td>\n",
       "    </tr>\n",
       "    <tr>\n",
       "      <th>6</th>\n",
       "      <td>6</td>\n",
       "      <td>6</td>\n",
       "      <td>Selamat pagi, hari jum'at. Jum'at keempat di k...</td>\n",
       "      <td>1.0</td>\n",
       "      <td>selamat pagi hari jumat jumat keempat di kala ...</td>\n",
       "      <td>['selamat', 'pagi', 'hari', 'jumat', 'jumat', ...</td>\n",
       "      <td>['selamat', 'pagi', 'hari', 'jumat', 'jumat', ...</td>\n",
       "      <td>selamat pagi hari jumat jumat keempat di kala ...</td>\n",
       "      <td>selamat pagi hari jumat jumat keempat di kala ...</td>\n",
       "      <td>selamat pagi hari jumat jumat empat kala pande...</td>\n",
       "    </tr>\n",
       "    <tr>\n",
       "      <th>7</th>\n",
       "      <td>7</td>\n",
       "      <td>7</td>\n",
       "      <td>Hikmah di balik musibah covid-19, smg para pej...</td>\n",
       "      <td>1.0</td>\n",
       "      <td>hikmah di balik musibah covid   smg para pejab...</td>\n",
       "      <td>['hikmah', 'di', 'balik', 'musibah', 'covid', ...</td>\n",
       "      <td>['hikmah', 'di', 'balik', 'musibah', 'covid', ...</td>\n",
       "      <td>hikmah di balik musibah covid smg para pejabat...</td>\n",
       "      <td>hikmah di balik musibah covid smg para pejabat...</td>\n",
       "      <td>hikmah balik musibah covid smg jabat perintah ...</td>\n",
       "    </tr>\n",
       "    <tr>\n",
       "      <th>8</th>\n",
       "      <td>8</td>\n",
       "      <td>8</td>\n",
       "      <td>Cegah covid-19 beserta jajaran Polsek Kuranji ...</td>\n",
       "      <td>1.0</td>\n",
       "      <td>cegah covid   beserta jajaran polsek kuranji m...</td>\n",
       "      <td>['cegah', 'covid', 'beserta', 'jajaran', 'pols...</td>\n",
       "      <td>['cegah', 'covid', 'beserta', 'jajaran', 'pols...</td>\n",
       "      <td>cegah covid beserta jajaran polsek kuranji mel...</td>\n",
       "      <td>cegah covid beserta jajaran polsek kuranji mel...</td>\n",
       "      <td>cegah covid serta jajar polsek ranji laku aksi...</td>\n",
       "    </tr>\n",
       "    <tr>\n",
       "      <th>9</th>\n",
       "      <td>9</td>\n",
       "      <td>9</td>\n",
       "      <td>Ya Allah kami memohon pada mu perkenankanlah d...</td>\n",
       "      <td>1.0</td>\n",
       "      <td>ya allah kami memohon pada mu perkenankanlah d...</td>\n",
       "      <td>['ya', 'allah', 'kami', 'memohon', 'pada', 'mu...</td>\n",
       "      <td>['ya', 'allah', 'kami', 'memohon', 'pada', 'mu...</td>\n",
       "      <td>ya allah kami memohon pada mu perkenankanlah d...</td>\n",
       "      <td>ya allah kami memohon pada mu perkenankanlah d...</td>\n",
       "      <td>allah mohon mu kenan doa doa rana sungguh engk...</td>\n",
       "    </tr>\n",
       "  </tbody>\n",
       "</table>\n",
       "</div>"
      ],
      "text/plain": [
       "   Unnamed: 0.1  Unnamed: 0  \\\n",
       "0             0           0   \n",
       "1             1           1   \n",
       "2             2           2   \n",
       "3             3           3   \n",
       "4             4           4   \n",
       "5             5           5   \n",
       "6             6           6   \n",
       "7             7           7   \n",
       "8             8           8   \n",
       "9             9           9   \n",
       "\n",
       "                                               Tweet  Sentimen  \\\n",
       "0  Cegah mata rantai Covid-19,mari kita dirumah s...       1.0   \n",
       "1  aku mohon yaAllah semoga wabah covid-19 menghi...       1.0   \n",
       "2  Pemprov Papua Naikkan Status Jadi Tanggap Daru...       1.0   \n",
       "3            Covid belum nyampe prigen mbak hmm hoax       0.0   \n",
       "4  Nyuruh orang pintar, lu aja Togog. Itu kerumun...      -1.0   \n",
       "5  Pikir2 balik byk mnde plk nk setelkn lepas covid.       0.0   \n",
       "6  Selamat pagi, hari jum'at. Jum'at keempat di k...       1.0   \n",
       "7  Hikmah di balik musibah covid-19, smg para pej...       1.0   \n",
       "8  Cegah covid-19 beserta jajaran Polsek Kuranji ...       1.0   \n",
       "9  Ya Allah kami memohon pada mu perkenankanlah d...       1.0   \n",
       "\n",
       "                                              step01  \\\n",
       "0  cegah mata rantai covid   mari kita dirumah sa...   \n",
       "1  aku mohon yaallah semoga wabah covid   menghil...   \n",
       "2  pemprov papua naikkan status jadi tanggap daru...   \n",
       "3            covid belum nyampe prigen mbak hmm hoax   \n",
       "4  nyuruh orang pintar lu aja togog itu kerumunan...   \n",
       "5    pikir balik byk mnde plk nk setelkn lepas covid   \n",
       "6  selamat pagi hari jumat jumat keempat di kala ...   \n",
       "7  hikmah di balik musibah covid   smg para pejab...   \n",
       "8  cegah covid   beserta jajaran polsek kuranji m...   \n",
       "9  ya allah kami memohon pada mu perkenankanlah d...   \n",
       "\n",
       "                                              tokens  \\\n",
       "0  ['cegah', 'mata', 'rantai', 'covid', 'mari', '...   \n",
       "1  ['aku', 'mohon', 'yaallah', 'semoga', 'wabah',...   \n",
       "2  ['pemprov', 'papua', 'naikkan', 'status', 'jad...   \n",
       "3  ['covid', 'belum', 'nyampe', 'prigen', 'mbak',...   \n",
       "4  ['nyuruh', 'orang', 'pintar', 'lu', 'aja', 'to...   \n",
       "5  ['pikir', 'balik', 'byk', 'mnde', 'plk', 'nk',...   \n",
       "6  ['selamat', 'pagi', 'hari', 'jumat', 'jumat', ...   \n",
       "7  ['hikmah', 'di', 'balik', 'musibah', 'covid', ...   \n",
       "8  ['cegah', 'covid', 'beserta', 'jajaran', 'pols...   \n",
       "9  ['ya', 'allah', 'kami', 'memohon', 'pada', 'mu...   \n",
       "\n",
       "                                        final_tokens  \\\n",
       "0  ['cegah', 'mata', 'rantai', 'covid', 'mari', '...   \n",
       "1  ['aku', 'mohon', 'yaallah', 'semoga', 'wabah',...   \n",
       "2  ['pemprov', 'papua', 'naikkan', 'status', 'jad...   \n",
       "3  ['covid', 'belum', 'nyampe', 'prigen', 'mbak',...   \n",
       "4  ['nyuruh', 'orang', 'pintar', 'lu', 'aja', 'to...   \n",
       "5  ['pikir', 'balik', 'byk', 'mnde', 'plk', 'nk',...   \n",
       "6  ['selamat', 'pagi', 'hari', 'jumat', 'jumat', ...   \n",
       "7  ['hikmah', 'di', 'balik', 'musibah', 'covid', ...   \n",
       "8  ['cegah', 'covid', 'beserta', 'jajaran', 'pols...   \n",
       "9  ['ya', 'allah', 'kami', 'memohon', 'pada', 'mu...   \n",
       "\n",
       "                                              step02  \\\n",
       "0  cegah mata rantai covid mari kita dirumah saja...   \n",
       "1  aku mohon yaallah semoga wabah covid menghilan...   \n",
       "2  pemprov papua naikkan status jadi tanggap daru...   \n",
       "3            covid belum nyampe prigen mbak hmm hoax   \n",
       "4  nyuruh orang pintar lu aja togog itu kerumunan...   \n",
       "5    pikir balik byk mnde plk nk setelkn lepas covid   \n",
       "6  selamat pagi hari jumat jumat keempat di kala ...   \n",
       "7  hikmah di balik musibah covid smg para pejabat...   \n",
       "8  cegah covid beserta jajaran polsek kuranji mel...   \n",
       "9  ya allah kami memohon pada mu perkenankanlah d...   \n",
       "\n",
       "                                       finalText_str  \\\n",
       "0  cegah mata rantai covid mari kita dirumah saja...   \n",
       "1  aku mohon yaallah semoga wabah covid menghilan...   \n",
       "2  pemprov papua naikkan status jadi tanggap daru...   \n",
       "3            covid belum nyampe prigen mbak hmm hoax   \n",
       "4  nyuruh orang pintar lu aja togog itu kerumunan...   \n",
       "5    pikir balik byk mnde plk nk setelkn lepas covid   \n",
       "6  selamat pagi hari jumat jumat keempat di kala ...   \n",
       "7  hikmah di balik musibah covid smg para pejabat...   \n",
       "8  cegah covid beserta jajaran polsek kuranji mel...   \n",
       "9  ya allah kami memohon pada mu perkenankanlah d...   \n",
       "\n",
       "                                       ProcessedText  \n",
       "0  cegah mata rantai covid kita rumah hingga hari...  \n",
       "1  aku mohon yaallah moga wabah covid hilang rama...  \n",
       "2  pemprov papua naik status jadi tanggap darurat...  \n",
       "3                  covid nyampe prigen mbak hmm hoax  \n",
       "4  nyuruh orang pintar lu aja togog kerumun orang...  \n",
       "5    pikir balik byk mnde plk nk setelkn lepas covid  \n",
       "6  selamat pagi hari jumat jumat empat kala pande...  \n",
       "7  hikmah balik musibah covid smg jabat perintah ...  \n",
       "8  cegah covid serta jajar polsek ranji laku aksi...  \n",
       "9  allah mohon mu kenan doa doa rana sungguh engk...  "
      ]
     },
     "execution_count": 4,
     "metadata": {},
     "output_type": "execute_result"
    }
   ],
   "source": [
    "dataset.head(10)"
   ]
  },
  {
   "cell_type": "code",
   "execution_count": 5,
   "metadata": {},
   "outputs": [],
   "source": [
    "dataset_feature = dataset['ProcessedText'].astype(str)"
   ]
  },
  {
   "cell_type": "code",
   "execution_count": 6,
   "metadata": {},
   "outputs": [],
   "source": [
    "dataset_label = dataset['Sentimen']"
   ]
  },
  {
   "cell_type": "code",
   "execution_count": 7,
   "metadata": {},
   "outputs": [
    {
     "data": {
      "text/plain": [
       "0      cegah mata rantai covid kita rumah hingga hari...\n",
       "1      aku mohon yaallah moga wabah covid hilang rama...\n",
       "2      pemprov papua naik status jadi tanggap darurat...\n",
       "3                      covid nyampe prigen mbak hmm hoax\n",
       "4      nyuruh orang pintar lu aja togog kerumun orang...\n",
       "                             ...                        \n",
       "897    seluruh negara dunia alami masa sulit covid ra...\n",
       "898    covid skripsi disaster selesai mau bgt bljr ma...\n",
       "899    malam projek benda bincang malam fb satu belia...\n",
       "900                          pontang panting koyak covid\n",
       "901    masalah sekarang isu jangkit covid alaaaa bosa...\n",
       "Name: ProcessedText, Length: 902, dtype: object"
      ]
     },
     "execution_count": 7,
     "metadata": {},
     "output_type": "execute_result"
    }
   ],
   "source": [
    "dataset_feature"
   ]
  },
  {
   "cell_type": "code",
   "execution_count": 8,
   "metadata": {},
   "outputs": [
    {
     "data": {
      "text/plain": [
       "0      1.0\n",
       "1      1.0\n",
       "2      1.0\n",
       "3      0.0\n",
       "4     -1.0\n",
       "      ... \n",
       "897    1.0\n",
       "898    1.0\n",
       "899    0.0\n",
       "900   -1.0\n",
       "901   -1.0\n",
       "Name: Sentimen, Length: 902, dtype: float64"
      ]
     },
     "execution_count": 8,
     "metadata": {},
     "output_type": "execute_result"
    }
   ],
   "source": [
    "dataset_label"
   ]
  },
  {
   "cell_type": "markdown",
   "metadata": {},
   "source": [
    "# cek distribusi label"
   ]
  },
  {
   "cell_type": "code",
   "execution_count": 11,
   "metadata": {},
   "outputs": [],
   "source": [
    "import matplotlib.pyplot as plt\n",
    "import seaborn as sns\n",
    "%matplotlib inline"
   ]
  },
  {
   "cell_type": "code",
   "execution_count": 10,
   "metadata": {},
   "outputs": [
    {
     "name": "stderr",
     "output_type": "stream",
     "text": [
      "/Users/masaboe/miniconda3/lib/python3.9/site-packages/seaborn/distributions.py:2619: FutureWarning: `distplot` is a deprecated function and will be removed in a future version. Please adapt your code to use either `displot` (a figure-level function with similar flexibility) or `histplot` (an axes-level function for histograms).\n",
      "  warnings.warn(msg, FutureWarning)\n"
     ]
    },
    {
     "data": {
      "image/png": "[encoded data removed]",
      "text/plain": [
       "<Figure size 864x576 with 1 Axes>"
      ]
     },
     "metadata": {
      "needs_background": "light"
     },
     "output_type": "display_data"
    }
   ],
   "source": [
    "# Visualizing the target variable\n",
    "plt.figure(figsize=(12,8))\n",
    "sns.distplot(dataset_label, label=f'target, skew: {dataset_label.skew():.2f}')\n",
    "plt.legend(loc='best')\n",
    "plt.show()"
   ]
  },
  {
   "cell_type": "code",
   "execution_count": 12,
   "metadata": {},
   "outputs": [
    {
     "data": {
      "text/plain": [
       "Sentimen\n",
       " 1.0    441\n",
       " 0.0    266\n",
       "-1.0    195\n",
       "Name: count, dtype: int64"
      ]
     },
     "execution_count": 12,
     "metadata": {},
     "output_type": "execute_result"
    }
   ],
   "source": [
    "dataset_label.value_counts()"
   ]
  },
  {
   "cell_type": "markdown",
   "metadata": {},
   "source": [
    "# BOW"
   ]
  },
  {
   "cell_type": "code",
   "execution_count": 14,
   "metadata": {},
   "outputs": [],
   "source": [
    "from sklearn.feature_extraction.text import CountVectorizer"
   ]
  },
  {
   "cell_type": "code",
   "execution_count": 15,
   "metadata": {},
   "outputs": [],
   "source": [
    "vectorizer = CountVectorizer()"
   ]
  },
  {
   "cell_type": "code",
   "execution_count": 16,
   "metadata": {},
   "outputs": [],
   "source": [
    "X = vectorizer.fit_transform(dataset_feature)"
   ]
  },
  {
   "cell_type": "code",
   "execution_count": 24,
   "metadata": {},
   "outputs": [
    {
     "name": "stdout",
     "output_type": "stream",
     "text": [
      "{'cegah': 581, 'mata': 2046, 'rantai': 2815, 'covid': 647, 'kita': 1659, 'rumah': 2921, 'hingga': 1199, 'hari': 1144, 'minggu': 2144, 'aku': 76, 'mohon': 2196, 'yaallah': 3826, 'moga': 2193, 'wabah': 3750, 'hilang': 1192, 'ramadhan': 2801, 'datang': 700, 'pemprov': 2578, 'papua': 2520, 'naik': 2269, 'status': 3285, 'jadi': 1358, 'tanggap': 3411, 'darurat': 697, 'opm': 2439, 'nyampe': 2402, 'prigen': 2721, 'mbak': 2061, 'hmm': 1209, 'hoax': 1213, 'nyuruh': 2414, 'orang': 2445, 'pintar': 2648, 'lu': 1925, 'aja': 53, 'togog': 3575, 'kerumun': 1625, 'nularin': 2391, 'lol': 1917, 'mikir': 2132, 'pikir': 2639, 'balik': 283, 'byk': 558, 'mnde': 2179, 'plk': 2667, 'nk': 2366, 'setelkn': 3150, 'lepas': 1876, 'selamat': 3074, 'pagi': 2465, 'jumat': 1454, 'empat': 897, 'kala': 1489, 'pandemi': 2494, 'semua': 3100, 'kasih': 1541, 'sehat': 3052, 'aamiin': 1, 'hikmah': 1191, 'musibah': 2245, 'smg': 3231, 'jabat': 1356, 'perintah': 2605, 'sadar': 2943, 'lbh': 1849, 'depan': 731, 'kaya': 1554, 'negara': 2299, 'utk': 3724, 'sejahtera': 3053, 'rakyat': 2799, 'indonesia': 1298, 'bukan': 528, 'diri': 785, 'sendiri': 3107, 'keluarga': 1586, 'penting': 2591, 'golong': 1060, 'bela': 361, 'wna': 3812, 'yg': 3843, 'jelas': 1401, 'luka': 1931, 'serta': 3137, 'jajar': 1365, 'polsek': 2687, 'ranji': 2814, 'laku': 1811, 'aksi': 73, 'peduli': 2564, 'upa': 3703, 'bagi': 260, 'masker': 2040, 'gratis': 1073, 'guna': 1092, 'jalan': 1367, 'giat': 1038, 'kamis': 1507, 'febriputraguci': 933, 'allah': 100, 'mu': 2213, 'kenan': 1603, 'doa': 819, 'rana': 2808, 'sungguh': 3335, 'engkau': 904, 'maha': 1955, 'asih': 211, 'sayang': 3012, 'lindung': 1898, 'dari': 694, 'sakit': 2955, 'jangkit': 1376, 'rabbal': 2789, 'lamin': 1820, 'stay': 3286, 'at': 223, 'home': 1216, 'jangan': 1374, 'keluar': 1585, 'sah': 2946, 'luas': 1927, 'revisi': 2875, 'libur': 1890, 'cuti': 663, 'sama': 2969, 'bencana': 377, 'nasional': 2289, 'dprd': 835, 'indramayu': 1299, 'minta': 2150, 'bumd': 538, 'beri': 397, 'ringan': 2887, 'tagih': 3372, 'kredit': 1743, 'pdam': 2556, 'fkub': 947, 'barat': 312, 'sepakat': 3114, 'adakan': 21, 'serentak': 3129, 'ya': 3823, 'daerah': 672, 'sy': 3357, 'cipinang': 611, 'besar': 408, 'selatan': 3077, 'rt': 2914, 'rw': 2934, 'nya': 2398, 'tdk': 3437, 'prnh': 2726, 'aware': 236, 'dgn': 746, 'warga': 3772, 'ada': 19, 'bantu': 301, 'pernah': 2610, 'transparansi': 3599, 'amp': 127, 'jg': 1412, 'tindak': 3547, 'semprot': 3097, 'disinfektan': 795, 'dbd': 704, 'banyak': 304, 'tp': 3594, 'fogging': 952, 'uang': 3660, 'kas': 1538, 'ttp': 3621, 'skrinews': 3220, 'pdt': 2561, 'jimmy': 1419, 'rang': 2810, 'virus': 3743, 'corona': 638, 'jaga': 1360, 'tanah': 3400, 'cara': 572, 'suruh': 3343, 'segera': 3050, 'pergi': 2601, 'bersih': 406, 'tertib': 3498, 'bukankah': 529, 'didik': 761, 'agar': 44, 'selalu': 3073, 'badan': 254, 'pakai': 2471, 'barang': 309, 'lingkung': 1900, 'rajin': 2797, 'mandi': 2007, 'cuci': 656, 'tangan': 3405, 'tidak': 3530, 'sembarang': 3089, 'buang': 521, 'sampah': 2974, 'menteri': 2112, 'agama': 43, 'provinsi': 2741, 'azis': 245, 'hegemur': 1168, 'kata': 1545, 'umat': 3683, 'islam': 1340, 'imbau': 1278, 'tolak': 3579, 'makam': 1968, 'jenazah': 1406, 'pasien': 2537, 'positif': 2697, 'baru': 315, 'bangun': 295, 'tidur': 3532, 'seruput': 3141, 'kopi': 1718, 'sedikit': 3047, 'ibuk': 1248, 'mencak': 2093, 'gak': 984, 'karuan': 1535, 'satu': 3005, 'pahlawan': 2467, 'garis': 1003, 'tinggal': 3548, 'dunia': 861, 'tempat': 3461, 'mungkin': 2239, 'lebih': 1857, 'tepat': 3480, 'sekolompok': 3066, 'kurang': 1785, 'edukasi': 870, 'mudik': 2220, 'dong': 829, 'ancam': 138, 'sebar': 3038, 'tandatangani': 3403, 'petisi': 2627, 'via': 3737, 'berita': 398, 'ini': 1313, 'akan': 63, 'tengok': 3476, 'muflis': 2222, 'dungu': 860, 'macam': 1945, 'kudeta': 1766, 'mbs': 2063, 'pangeran': 2501, 'kena': 1601, 'sumber': 3331, 'kaum': 1548, 'liberal': 1888, 'bhabinkamtibmas': 423, 'tamalatea': 3393, 'aparatur': 182, 'desa': 735, 'kareloe': 1529, 'rawan': 2826, 'tanggung': 3413, 'jawa': 1391, 'tengah': 3471, 'anggota': 149, 'gugus': 1088, 'tugas': 3627, 'lurah': 1941, 'mungseng': 2241, 'mau': 2052, 'tak': 3379, 'bagiin': 261, 'posko': 2702, 'profil': 2732, 'operasional': 2438, 'bandara': 287, 'ap': 176, 'ii': 1260, 'btw': 519, 'long': 1918, 'weekend': 3790, 'ni': 2355, 'dulu': 858, 'si': 3168, 'yang': 3834, 'paling': 2482, 'nanti': 2281, 'eh': 877, 'skrng': 3222, 'mah': 1954, 'beneran': 381, 'panjang': 2509, 'enak': 899, 'malah': 1989, 'ngedumel': 2319, 'bae': 257, 'dasar': 698, 'hallo': 1126, 'lapor': 1838, 'langgar': 1828, 'tentu': 3479, 'jarak': 1379, 'lama': 1816, 'hei': 1172, 'guys': 1099, 'gw': 1100, 'ngajak': 2309, 'kalian': 1496, 'pandemik': 2496, 'lekas': 1867, 'gimana': 1042, 'rangin': 2811, 'dah': 676, 'tuh': 3629, 'nongki': 2376, 'hal': 1121, 'segala': 3048, 'aktivitas': 75, 'luar': 1926, 'ruang': 2916, 'yuk': 3853, 'ajar': 57, 'utbk': 3723, 'tau': 3430, 'saing': 2949, 'lo': 1910, 'buanyak': 522, 'banget': 291, 'yok': 3846, 'dusta': 865, 'antara': 166, 'kisah': 1658, 'pilu': 2643, 'dokter': 825, 'nyata': 2407, 'mutasi': 2252, 'gelombang': 1020, 'dua': 850, 'salam': 2959, 'jumaat': 1453, 'tadah': 3368, 'ampun': 130, 'serah': 3120, 'ilah': 1270, 'kuat': 1761, 'kesihatan': 1633, 'baik': 273, 'jauh': 1390, 'hamba': 1129, 'sedang': 3043, 'juang': 1442, 'hospital': 1222, 'kuatir': 1762, 'test': 3503, 'seluruh': 3085, 'korban': 1722, 'geletak': 1018, 'mati': 2049, 'suspek': 3347, 'ngeri': 2333, 'kek': 1576, 'gue': 1085, 'saking': 2954, 'fokus': 953, 'soal': 3241, 'siap': 3172, 'kerja': 1622, 'padahal': 2460, 'tanggal': 3409, 'merah': 2115, 'yalord': 3833, 'arti': 200, 'gitar': 1044, 'bikin': 440, 'album': 91, 'lagu': 1801, 'buat': 523, 'yudhoyono': 3852, 'berat': 394, 'mbah': 2060, 'terlalu': 3493, 'haid': 1115, 'ndang': 2294, 'mampet': 2000, 'jual': 1441, 'online': 2436, 'payu': 2550, 'horny': 1221, 'sing': 3199, 'lanang': 1823, 'mumet': 2236, 'masak': 2032, 'berkat': 401, 'sariawan': 2998, 'loro': 1921, 'untu': 3699, 'putih': 2781, 'murus': 2244, 'ilate': 1272, 'kecakot': 1564, 'bengese': 382, 'anyar': 174, 'kerlisut': 1624, 'amal': 115, 'langkah': 1830, 'tular': 3636, 'hidup': 1188, 'positifcterjangkit': 2698, 'bumi': 539, 'maaf': 1944, 'kau': 1547, 'butuh': 555, 'istirahat': 1346, 'kalau': 1492, 'ga': 974, 'jam': 1369, 'gin': 1043, 'udah': 3669, 'mulai': 2231, 'daki': 681, 'pos': 2696, 'cangkuang': 570, 'developers': 741, 'biang': 426, 'rusuh': 2930, 'proyek': 2744, 'konstruksi': 1709, 'swasta': 3355, 'masuk': 2043, 'kecuali': 1570, 'freeze': 963, 'dlm': 813, 'psbb': 2747, 'dki': 811, 'gub': 1081, 'pdhl': 2557, 'permenkes': 2609, 'potensi': 2707, 'kluster': 1671, 'krn': 1751, 'padat': 2463, 'bijimane': 438, 'nih': 2359, 'mana': 2004, 'yukkk': 3854, 'putus': 2783, 'semangat': 3086, 'sinergitas': 3197, 'tni': 3570, 'polri': 2686, 'kucing': 1765, 'manusia': 2019, 'khidmat': 1644, 'veterinar': 3735, 'pemkab': 2576, 'wondama': 3814, 'pantau': 2515, 'unimas': 3696, 'usia': 3714, 'tahun': 3377, 'maut': 2054, 'murid': 2243, 'mama': 1998, 'gambar': 987, 'poster': 2704, 'anak': 133, 'nggambar': 2342, 'gede': 1011, 'gaban': 975, 'bawah': 331, 'tulis': 3637, 'coronavirus': 642, 'disease': 789, 'dampak': 684, 'jumlah': 1455, 'sektor': 3069, 'salah': 2957, 'hotel': 1223, 'masyarakat': 2044, 'terus': 3499, 'alir': 97, 'rekening': 2850, 'isi': 1339, 'rp': 2908, 'miliar': 2134, 'mnyuruh': 2187, 'sgera': 3157, 'sang': 2987, 'cipta': 612, 'bukankh': 530, 'suasana': 3307, 'aktif': 74, 'org': 2448, 'takut': 3388, 'dekat': 715, 'berdzikir': 395, 'kholiq': 1646, 'malaysia': 1994, 'temen': 3459, 'punya': 2773, 'pada': 2459, 'pulang': 2764, 'rb': 2830, 'ber': 386, 'resiko': 2869, 'bawa': 330, 'juga': 1447, 'wartawan': 3779, 'media': 2068, 'skri': 3219, 'satgas': 3004, 'lebaran': 1855, 'sebentar': 3039, 'gara': 999, 'apa': 177, 'aksesoris': 72, 'enggak': 902, 'koba': 1678, 'himbau': 1193, 'pemuda': 2580, 'kumpul': 1777, 'masing': 2037, 'met': 2126, 'nkri': 2368, 'spy': 3274, 'trlalu': 3611, 'heboh': 1167, 'data': 699, 'banding': 288, 'prop': 2735, 'indon': 1297, 'sblm': 3019, 'jk': 1422, 'tara': 3424, 'stlh': 3293, 'mk': 2164, 'tsb': 3618, 'angka': 150, 'norma': 2380, 'sj': 3214, 'tido': 3531, 'la': 1791, 'nak': 2271, 'harap': 1142, 'azali': 244, 'takde': 3383, 'hati': 1157, 'tu': 3622, 'cuba': 655, 'je': 1396, 'tahu': 3376, 'bagaimana': 259, 'wabak': 3751, 'sila': 3186, 'baca': 251, 'risalah': 2889, 'iya': 1353, 'sel': 3071, 'liat': 1886, 'dengerin': 727, 'lukman': 1933, 'sardi': 2996, 'bilang': 442, 'penuh': 2592, 'makanya': 1970, 'awam': 235, 'kan': 1512, 'usir': 3715, 'triase': 3609, 'emang': 893, 'jkt': 1424, 'parah': 2523, 'shg': 3164, 'dg': 744, 'mlh': 2170, 'jd': 1394, 'cukup': 658, 'nikmat': 2362, 'kabar': 1467, 'aceh': 15, 'salur': 2967, 'pokok': 2680, 'kriteria': 1746, 'terima': 3490, 'pkh': 2655, 'bpnt': 498, 'alhamdulillah': 94, 'date': 701, 'kasus': 1543, 'simpang': 3190, 'produksi': 2730, 'distribusi': 804, 'apd': 184, 'bacot': 252, 'lbih': 1850, 'anjing': 157, 'sia': 3169, 'bele': 366, 'pantat': 2514, 'koreng': 1725, 'sok': 3245, 'blgu': 466, 'lumpuh': 1936, 'peran': 2595, 'tegak': 3440, 'wujud': 3822, 'my': 2258, 'liberty': 1889, 'ends': 900, 'where': 3795, 'your': 3848, 'nose': 2382, 'begins': 356, 'pas': 2532, 'era': 910, 'colek': 628, 'hidung': 1187, 'masa': 2031, 'normal': 2381, 'di': 750, 'kejut': 1575, 'terkanjat': 3492, 'pelbagai': 2571, 'insentif': 1319, 'dsaat': 847, 'laksana': 1810, 'pkp': 2658, 'ikut': 1269, 'komen': 1687, 'youtube': 3849, 'sugeng': 3315, 'ambal': 117, 'warso': 3777, 'bahgia': 269, 'atas': 224, 'biasa': 430, 'jawab': 1392, 'emak': 892, 'lahir': 1806, 'dek': 713, 'waktu': 3760, 'masih': 2036, 'hawa': 1163, 'nafsu': 2265, 'bakal': 276, 'susah': 3346, 'tentang': 3477, 'budaya': 525, 'mayoritas': 2059, 'belanja': 364, 'pasar': 2535, 'tradisional': 3597, 'cuma': 660, 'ngereceh': 2331, 'ambil': 118, 'kerjasama': 1623, 'internasional': 1326, 'duduk': 851, 'periksa': 2604, 'klinis': 1667, 'fisik': 942, 'laboratorium': 1796, 'tega': 3439, 'diagnosis': 752, 'risiko': 2890, 'awda': 240, 'tips': 3554, 'ilmuwan': 1274, 'tingkat': 3551, 'kebal': 1561, 'tubuh': 3625, 'lawan': 1845, 'sistem': 3207, 'tahan': 3374, 'mekanisme': 2078, 'efektif': 873, 'serang': 3122, 'ingat': 1311, 'agung': 45, 'makna': 1982, 'cinta': 610, 'kini': 1653, 'untuk': 3700, 'pasti': 2540, 'buah': 520, 'paskah': 2538, 'kemudian': 1599, 'happy': 1140, 'good': 1062, 'friday': 965, 'mendikbud': 2096, 'dana': 687, 'bos': 491, 'beli': 367, 'kuota': 1784, 'internet': 1329, 'siswa': 3208, 'jasmani': 1385, 'rohani': 2902, 'dok': 824, 'swt': 3356, 'hindar': 1198, 'fitnah': 944, 'dajjal': 680, 'mulut': 2235, 'senantiasa': 3106, 'insyaallah': 1324, 'bs': 515, 'mjdi': 2163, 'tameng': 3397, 'ikhtiar': 1267, 'narapidana': 2284, 'bebas': 349, 'koruptor': 1727, 'serba': 3123, 'serbi': 3124, 'mmc': 2172, 'sembuh': 3090, 'jgn': 1415, 'coba': 625, 'lg': 1881, 'tentara': 3478, 'kenal': 1602, 'sara': 2994, 'mari': 2027, 'akhir': 66, 'amiiin': 122, 'kalo': 1499, 'charles': 602, 'papar': 2519, 'gejala': 1015, 'kemarin': 1588, 'yakin': 3831, 'sekali': 3057, 'seperti': 3117, 'rubah': 2917, 'semu': 3099, 'sekarang': 3060, 'doannya': 821, 'samal': 2970, 'mintannya': 2151, 'rahmat': 2794, 'dan': 686, 'mudah': 2219, 'untung': 3701, 'bro': 511, 'atur': 230, 'renang': 2856, 'ra': 2787, 'to': 3573, 'bapak': 307, 'anies': 155, 'beliau': 369, 'awal': 234, 'konsisten': 1707, 'saja': 2950, 'jegal': 1398, 'pusat': 2776, 'sebab': 3036, 'penjara': 2589, 'sosial': 3258, 'perlu': 2607, 'baharu': 266, 'tempoh': 3463, 'kawal': 1551, 'batal': 323, 'himpun': 1196, 'ramadan': 2800, 'aidilfitri': 48, 'haji': 1119, 'san': 2982, 'bernardino': 404, 'county': 644, 'dpr': 834, 'ri': 2879, 'bentuk': 385, 'timwas': 3545, 'mas': 2030, 'konpers': 1702, 'nnti': 2369, 'kira': 1655, 'tanggulang': 3412, 'ustadz': 3717, 'begitu': 357, 'fakta': 923, 'pindah': 2645, 'ibu': 1247, 'kota': 1733, 'mirissss': 2156, 'baznas': 343, 'buka': 527, 'donasi': 827, 'lewat': 1880, 'smart': 3229, 'shadaqah': 3159, 'bni': 475, 'syariah': 3363, 'bayangin': 338, 'ijazah': 1261, 'bsk': 517, 'lambang': 1817, 'mangtanku': 2011, 'besok': 410, 'akad': 61, 'ciyee': 620, 'meni': 2103, 'adalah': 22, 'duka': 856, 'malu': 1997, 'putra': 2782, 'kaka': 1487, 'dimanadan': 773, 'kalah': 1490, 'rasa': 2823, 'bully': 536, 'wow': 3817, 'wisma': 3805, 'atlit': 227, 'yuuu': 3858, 'mental': 2111, 'usah': 3711, 'hirau': 1201, 'skip': 3217, 'untk': 3698, 'esok': 914, 'lusa': 1943, 'karna': 1533, 'milik': 2136, 'co': 624, 'vi': 3736, 'tambah': 3395, 'yakni': 3832, 'wakil': 3759, 'puas': 2754, 'jwban': 1464, 'halo': 1127, 'luna': 1937, 'pihak': 2636, 'kuasa': 1760, 'menanggani': 2090, 'ft': 969, 'sec': 3041, 'contoh': 634, 'beberapa': 350, 'kondisi': 1695, 'terap': 3485, 'alat': 90, 'kam': 1502, 'apotek': 189, 'meminimalisir': 2085, 'silah': 3187, 'share': 3161, 'tag': 3371, 'medsos': 2074, 'dengan': 725, 'hashtag': 1152, 'am': 113, 'mrs': 2208, 'lestari': 1877, 'abyasa': 11, 'balikpapan': 284, 'rika': 2883, 'anderson': 142, 'pinjam': 2647, 'jamin': 1372, 'juta': 1463, 'anda': 141, 'hubung': 1229, 'wa': 3748, 'phone': 2634, 'emailrikaandersonloancompany': 891, 'tunggu': 3649, 'reda': 2839, 'sabar': 2939, 'karena': 1531, 'jahat': 1363, 'alas': 89, 'lgi': 1882, 'angkuh': 154, 'sombong': 3251, 'kecil': 1569, 'tk': 3557, 'tmpak': 3566, 'tlah': 3562, 'mndidik': 2180, 'bahwa': 272, 'mampu': 2002, 'mncegahnya': 2178, 'jka': 1423, 'dtang': 848, 'mmpir': 2176, 'mngenal': 2182, 'miskin': 2158, 'tua': 3623, 'muda': 2218, 'pmbesar': 2672, 'klaster': 1665, 'umrah': 3687, 'sidrap': 3179, 'gubernur': 1083, 'diframing': 763, 'sbg': 3018, 'penangganan': 2582, 'framing': 961, 'menenggelankan': 2098, 'popularitas': 2694, 'anggap': 147, 'politik': 2684, 'sdh': 3030, 'lagi': 1800, 'awat': 238, 'grgr': 1074, 'nasib': 2288, 'lokal': 1914, 'hampir': 1131, 'level': 1879, 'presiden': 2717, 'sedia': 3045, 'tetap': 3507, 'rmh': 2896, 'makan': 1969, 'layak': 1846, 'koordinasi': 1716, 'dr': 838, 'ke': 1560, 'pelosok': 2572, 'lalu': 1814, 'jalur': 1368, 'kelas': 1580, 'cere': 595, 'penghulu': 2587, 'urus': 3708, 'masjid': 2038, 'cirebon': 614, 'gelar': 1017, 'bala': 280, 'munajat': 2238, 'adzan': 35, 'pitu': 2650, 'para': 2522, 'tim': 3539, 'medis': 2071, 'min': 2141, 'lpdp': 1924, 'nggk': 2343, 'yaa': 3824, 'ahli': 47, 'ekonomi': 880, 'leader': 1854, 'kale': 1494, 'antri': 173, 'akibat': 69, 'efek': 872, 'wii': 3802, 'judul': 1445, 'benar': 375, 'hormat': 1220, 'sedih': 3046, 'dike': 766, 'afifi': 39, 'menbuat': 2092, 'bijak': 436, 'henti': 1176, 'akses': 71, 'transportasi': 3600, 'dalam': 682, 'yaudah': 3836, 'gpp': 1070, 'let': 1878, 'do': 818, 'ur': 3707, 'duties': 866, 'persib': 2615, 'potong': 2708, 'persen': 2613, 'gaji': 983, 'main': 1963, 'landa': 1826, 'hadap': 1105, 'musim': 2246, 'pancaroba': 2490, 'demam': 717, 'darah': 693, 'dengue': 728, 'hantu': 1137, 'haru': 1149, 'muslimah': 2247, 'new': 2306, 'york': 3847, 'allahu': 102, 'akbar': 64, 'ngaur': 2317, 'kamu': 1511, 'mosok': 2200, 'tenaga': 3467, 'sangkut': 2990, 'fatwa': 930, 'mui': 2226, 'emngya': 895, 'mesjid': 2123, 'hadeuh': 1106, 'sempat': 3096, 'nihil': 2360, 'tiga': 3535, 'bppt': 499, 'luncur': 1938, 'aplikasi': 187, 'mobile': 2190, 'track': 3596, 'insan': 1318, 'bocah': 479, 'kontol': 1713, 'mampus': 2003, 'diam': 754, 'sangat': 2988, 'lihat': 1895, 'kijang': 1652, 'patroli': 2544, 'klungkung': 1670, 'lepang': 1875, 'bypass': 559, 'ib': 1245, 'mantra': 2018, 'tipis': 3553, 'lancar': 1824, 'rute': 2932, 'tebet': 3438, 'depok': 732, 'pkl': 2657, 'wib': 3798, 'informasi': 1308, 'lengkap': 1872, 'jadwal': 1359, 'krl': 1749, 'website': 3787, 'link': 1901, 'tks': 3560, 'gorontalo': 1064, 'gagal': 980, 'egois': 876, 'suatu': 3309, 'enggan': 903, 'tawakal': 3431, 'pilih': 2641, 'takabur': 3380, 'sekrg': 3067, 'hrs': 1226, 're': 2832, 'alokasi': 106, 'respon': 2871, 'bayar': 339, 'kereta': 1620, 'payah': 2549, 'kauntermusim': 1549, 'elakkn': 886, 'cash': 575, 'setel': 3149, 'sahaja': 2948, 'gunakn': 1093, 'pam': 2484, 'minyak': 2153, 'rm': 2895, 'percuma': 2599, 'slps': 3225, 'petrol': 2628, 'pertama': 2619, 'kod': 1680, 'rujuk': 2919, 'download': 831, 'all': 98, 'jin': 1420, 'momok': 2197, 'konsumsi': 1710, 'tangga': 3408, 'bagai': 258, 'program': 2733, 'dapat': 689, 'coverage': 645, 'langsung': 1831, 'nadiem': 2262, 'makarim': 1972, 'kait': 1484, 'cair': 563, 'kip': 1654, 'kartu': 1534, 'kadar': 1476, 'rendah': 2859, 'pecah': 2563, 'telor': 3453, 'sarjana': 3000, 'dapet': 690, 'info': 1305, 'gang': 991, 'belah': 362, 'lumajang': 1934, 'sana': 2983, 'aman': 116, 'militer': 2137, 'bias': 429, 'wajib': 3757, 'serdadu': 3126, 'bisa': 456, 'konglomerat': 1700, 'harta': 1148, 'anis': 156, 'tiktok': 3537, 'sbnarnya': 3022, 'kaget': 1483, 'klo': 1668, 'dri': 840, 'social': 3243, 'distancing': 802, 'krna': 1752, 'bodoh': 480, 'pom': 2689, 'informatorium': 1309, 'obat': 2417, 'fgd': 936, 'kembang': 1592, 'tata': 3429, 'kritis': 1747, 'pulih': 2766, 'syafakallah': 3359, 'tun': 3644, 'muzamal': 2255, 'widan': 3800, 'drp': 843, 'sihat': 3182, 'alamiin': 87, 'temu': 3465, 'waspada': 3782, 'panik': 2508, 'bln': 469, 'tbc': 3433, 'seram': 3121, 'versus': 3734, 'dukung': 857, 'oleh': 2429, 'investasi': 1330, 'banyakk': 305, 'legalitas': 1861, 'konsep': 1705, 'perputasan': 2611, 'meditation': 2073, 'fight': 937, 'meditasi': 2072, 'hanya': 1138, 'manfaat': 2009, 'harmonis': 1147, 'ubah': 3662, 'mutlak': 2253, 'lupa': 1939, 'ttg': 3620, 'cytokine': 667, 'storm': 3297, 'pd': 2555, 'hrap': 1225, 'warna': 3776, 'hijau': 1190, 'bawak': 333, 'merempit': 2119, 'sapa': 2993, 'pqah': 2712, 'adoilah': 32, 'rawat': 2827, 'fpi': 959, 'minum': 2152, 'nutrisi': 2397, 'teliti': 3451, 'br': 500, 'dipublish': 780, 'saya': 3011, 'nulis': 2392, 'konser': 1706, 'virtual': 3742, 'seru': 3140, 'malam': 1991, 'postingan': 2706, 'jrx': 1439, 'ig': 1259, 'konspirasi': 1708, 'rugi': 2918, 'duit': 855, 'selesai': 3079, 'kes': 1626, 'walaupun': 3762, 'daripada': 696, 'sesal': 3143, 'allhumma': 103, 'inn': 1317, 'dzu': 867, 'bika': 439, 'mal': 1988, 'barashi': 311, 'wal': 3761, 'jun': 1457, 'judzmi': 1446, 'sayy': 3015, 'bismillahirrahmanirrahim': 460, 'bahagia': 264, 'akhirat': 67, 'ketua': 1638, 'wantim': 3769, 'alih': 96, 'abai': 5, 'sibuk': 3175, 'kasihan': 1542, 'video': 3740, 'hiv': 1205, 'komisi': 1689, 'banten': 298, 'update': 3706, 'infografis': 1306, 'kabupaten': 1469, 'deteksi': 740, 'jakarta': 1366, 'time': 3542, 'runner': 2925, 'dadah': 670, 'ek': 878, 'jenis': 1407, 'otak': 2454, 'kat': 1544, 'tah': 3373, 'cepat': 593, 'hisap': 1202, 'marah': 2023, 'plak': 2659, 'polusi': 2688, 'kendara': 1607, 'teknis': 3445, 'rs': 2909, 'klaim': 1663, 'biaya': 431, 'rsup': 2913, 'kariadi': 1532, 'semarang': 3087, 'lokasi': 1915, 'suwakul': 3351, 'ungar': 3691, 'wagub': 3754, 'sumbar': 3330, 'duplikasi': 862, 'harus': 1150, 'detail': 738, 'kak': 1486, 'siti': 3210, 'mina': 2142, 'plasa': 2661, 'telkom': 3452, 'jl': 1426, 'arif': 197, 'rahman': 2793, 'hakim': 1120, 'no': 2370, 'tutup': 3655, 'batas': 325, 'belum': 373, 'anjur': 161, 'kiai': 1649, 'spirit': 3272, 'pusing': 2777, 'julz': 1452, 'rame': 2804, 'sini': 3200, 'fwb': 973, 'ngotak': 2350, 'amin': 124, 'serius': 3135, 'mutusin': 2254, 'bulan': 535, 'galang': 985, 'nyari': 2404, 'liang': 1885, 'lahat': 1805, 'cekat': 583, 'sekalib': 3058, 'sekalic': 3059, 'benard': 376, 'semuah': 3101, 'biar': 427, 'hukum': 1235, 'brjalan': 508, 'pasca': 2536, 'gila': 1040, 'nambah': 2275, 'sbenarnya': 3017, 'tenar': 3470, 'glen': 1048, 'legislatif': 1863, 'sosialisasi': 3259, 'bahaya': 268, 'sawah': 3010, 'kotabaru': 1734, 'kalimantan': 1497, 'gencar': 1025, 'antisipasi': 170, 'wilayah': 3803, 'atlet': 226, 'mayor': 2058, 'maret': 2026, 'inap': 1287, 'pria': 2719, 'perempuan': 2600, 'kasdam': 1539, 'jaya': 1393, 'brigjen': 507, 'saleh': 2962, 'rebak': 2836, 'badung': 256, 'panen': 2499, 'order': 2447, 'kapasitas': 1519, 'integrasi': 1325, 'bidang': 433, 'makro': 1984, 'maupun': 2053, 'mitra': 2162, 'lintas': 1902, 'dpc': 832, 'demokrat': 721, 'baya': 335, 'masohi': 2041, 'mini': 2145, 'market': 2028, 'hoky': 1215, 'namaelo': 2274, 'lanjut': 1832, 'kader': 1477, 'turun': 3653, 'ujar': 3676, 'samuel': 2981, 'thiemailattu': 3518, 'sekitar': 3064, 'skala': 3215, 'dibebarapa': 756, 'refleksi': 2842, 'mukjizat': 2229, 'halau': 1124, 'have': 1162, 'blessing': 465, 'rem': 2854, 'bgt': 422, 'tante': 3421, 'abis': 10, 'ngeoprasi': 2328, 'sesar': 3145, 'doi': 823, 'polisi': 2683, 'palembang': 2480, 'anom': 162, 'setyadji': 3153, 'andes': 143, 'irwan': 1335, 'sik': 3183, 'safe': 2945, 'mencergah': 2094, 'bareng': 314, 'smartfren': 3230, 'ken': 1600, 'argopuro': 196, 'gas': 1005, 'ngikutin': 2344, 'isolasi': 1342, 'astagfirullah': 220, 'lenyap': 1874, 'punten': 2771, 'rapid': 2820, 'bal': 279, 'global': 1050, 'simak': 3188, 'asal': 207, 'smp': 3235, 'ustaz': 3719, 'fawwaz': 931, 'sampe': 2976, 'bantuin': 302, 'siapa': 3173, 'musuh': 2251, 'bener': 380, 'hahaha': 1112, 'waras': 3771, 'saat': 2937, 'sperti': 3267, 'inicoba': 1314, 'grogoti': 1076, 'tumbang': 3638, 'stelah': 3287, 'bang': 290, 'memangbetul': 2083, 'ssh': 3278, 'ambisi': 119, 'kbri': 1559, 'phnom': 2633, 'penh': 2588, 'wni': 3813, 'paru': 2531, 'awak': 233, 'hehe': 1170, 'hasil': 1153, 'ulama': 3681, 'tasimalaya': 3428, 'jabar': 1355, 'negatif': 2300, 'kiyai': 1660, 'ustadzah': 3718, 'da': 668, 'hms': 1212, 'itenas': 1351, 'bandung': 289, 'yayasan': 3839, 'wanadri': 3765, 'bekerjasama': 360, 'upaya': 3705, 'hadir': 1108, 'prihatin': 2722, 'ayo': 241, 'mahasiswa': 1956, 'pemda': 2575, 'andi': 144, 'hasriadi': 1154, 'generasi': 1026, 'sesak': 3142, 'nafas': 2263, 'protap': 2738, 'pdp': 2560, 'vaccine': 3728, 'jumpa': 1456, 'idup': 1256, 'udh': 3673, 'makin': 1979, 'anjlokk': 160, 'udahann': 3671, 'puk': 2760, 'spai': 3264, 'fspmi': 968, 'pt': 2752, 'nipro': 2364, 'hand': 1132, 'sanitizer': 2991, 'kemenkeuri': 1595, 'dipungkiri': 781, 'kian': 1651, 'tekan': 3443, 'susun': 3350, 'strategi': 3299, 'bukti': 534, 'tikus': 3538, 'cra': 653, 'mnyurh': 2186, 'sgr': 3158, 'prg': 2718, 'jngn': 1429, 'mlas': 2169, 'msjd': 2211, 'bkankh': 462, 'tlh': 3563, 'mndidk': 2181, 'kta': 1754, 'bgaimna': 417, 'strssnya': 3303, 'tnpa': 3572, 'tmpt': 3567, 'mmohn': 2174, 'brdoa': 502, 'bsa': 516, 'bribdh': 505, 'brjamah': 509, 'shalt': 3160, 'suasna': 3308, 'btin': 518, 'dmai': 815, 'sdhnya': 3031, 'mlps': 2171, 'sdr': 3032, 'mninggl': 2184, 'dishltkn': 793, 'sudah': 3312, 'odp': 2420, 'treat': 3605, 'mreka': 2206, 'screening': 3027, 'asrama': 217, 'pondok': 2692, 'disiplin': 796, 'kualitas': 1757, 'alamiah': 86, 'memang': 2082, 'paksa': 2477, 'se': 3033, 'ketuk': 1639, 'pintu': 2649, 'langit': 1829, 'khaliq': 1642, 'rayu': 2829, 'dengar': 726, 'adil': 25, 'nu': 2389, 'ku': 1755, 'menghimbau': 2102, 'saudara': 3007, 'rantau': 2816, 'kampung': 1508, 'rindu': 2886, 'solat': 3247, 'peperangan': 2593, 'menang': 2089, 'jom': 1435, 'ramai': 2802, 'assalam': 218, 'ortu': 2452, 'cekkin': 584, 'tunjang': 3650, 'sertifikasi': 3138, 'lucky': 1929, 'lumayan': 1935, 'thr': 3524, 'gedek': 1012, 'lari': 1840, 'kencang': 1605, 'buru': 548, 'mangsa': 2010, 'adminstrasi': 30, 'kawasan': 1553, 'medan': 2067, 'utara': 3722, 'jujur': 1450, 'sih': 3181, 'gapernah': 996, 'pusingg': 2778, 'heran': 1178, 'mainstream': 1965, 'angkat': 153, 'kok': 1683, 'ojol': 2423, 'doang': 820, 'sengsara': 3110, 'kayak': 1555, 'buruh': 549, 'serabutan': 3119, 'kacau': 1473, 'asn': 216, 'pegawai': 2567, 'bumn': 540, 'larang': 1839, 'kudu': 1767, 'manut': 2020, 'ora': 2444, 'ngeyel': 2339, 'physical': 2635, 'lampung': 1821, 'karantina': 1526, 'komplek': 1691, 'islamic': 1341, 'center': 591, 'kotabumi': 1735, 'plt': 2669, 'bupati': 546, 'budi': 526, 'utomo': 3725, 'camana': 567, 'cari': 573, 'rezeki': 2876, 'dgan': 745, 'ganggu': 992, 'bash': 318, 'kecam': 1565, 'pasal': 2533, 'isu': 1348, 'laa': 1792, 'artis': 202, 'bom': 487, 'diyerima': 809, 'nolak': 2371, 'nakes': 2272, 'nonton': 2378, 'sinetron': 3198, 'hidayah': 1185, 'siaga': 3170, 'planning': 2660, 'sabang': 2938, 'batall': 324, 'howalaahh': 1224, 'phk': 2632, 'daftar': 673, 'pra': 2713, 'koq': 1719, 'sabun': 2942, 'infolingga': 1307, 'ntt': 2387, 'kemenkes': 1594, 'korut': 1728, 'apit': 186, 'kosel': 1729, 'china': 604, 'episentrum': 909, 'kapolrestabes': 1522, 'forkopimda': 957, 'himbauan': 1194, 'nang': 2278, 'pojok': 2679, 'lingga': 1899, 'nyai': 2401, 'mending': 2097, 'gitu': 1045, 'hibur': 1184, 'alloh': 104, 'yra': 3851, 'bayang': 337, 'tangkap': 3415, 'itu': 1352, 'blm': 468, 'eeehh': 871, 'kyk': 1790, 'jatuh': 1389, 'tempo': 3462, 'massal': 2042, 'usa': 3710, 'repot': 2865, 'sissy': 3206, 'priscillia': 2725, 'damping': 685, 'sekolah': 3065, 'lelah': 1868, 'mukim': 2228, 'belawan': 365, 'ntar': 2385, 'bnyak': 476, 'tuduh': 3626, 'ky': 1789, 'kuli': 1772, 'sopir': 3254, 'ambulans': 120, 'kang': 1514, 'gali': 986, 'kubur': 1763, 'getah': 1036, 'rabb': 2788, 'berapa': 392, 'bahan': 265, 'kempen': 1597, 'mahu': 1960, 'padam': 2461, 'release': 2852, 'dendiam': 723, 'wat': 3783, 'keje': 1573, 'nampak': 2276, 'takyah': 3389, 'save': 3009, 'wang': 3767, 'raja': 2795, 'tabung': 3367, 'pandu': 2497, 'mandiri': 2008, 'betoi': 414, 'zmn': 3864, 'spatut': 3265, 'beban': 348, 'pulak': 2762, 'sb': 3016, 'spesis': 3270, 'surabaya': 3339, 'babinsa': 249, 'koramil': 1720, 'tenggilis': 3475, 'mejoyo': 2077, 'redam': 2840, 'kali': 1495, 'serma': 3136, 'siswono': 3209, 'sertu': 3139, 'supri': 3338, 'warsoyo': 3778, 'pangkat': 2504, 'saudi': 3008, 'asalamualaikum': 208, 'semogga': 3095, 'rohomadhon': 2903, 'semgga': 3094, 'robal': 2898, 'alamin': 88, 'mimpi': 2140, 'tampak': 3398, 'pasrah': 2539, 'imbas': 1277, 'merosot': 2120, 'tajam': 3378, 'prediksi': 2716, 'buruk': 550, 'area': 195, 'usaha': 3712, 'efin': 875, 'kantor': 1516, 'pajak': 2468, 'trmksh': 3613, 'peta': 2624, 'identifikasi': 1250, 'per': 2594, 'dinkeskotaserang': 777, 'total': 3590, 'tanya': 3422, 'semenjak': 3092, 'pompuan': 2690, 'gigih': 1039, 'make': 1976, 'up': 3702, 'mask': 2039, 'jibaku': 1416, 'kami': 1505, 'binatang': 449, 'lonjak': 1920, 'minim': 2146, 'kepastin': 1613, 'kapan': 1518, 'miss': 2159, 'muka': 2227, 'halaman': 1123, 'ungkap': 3694, 'kesana': 1628, 'ngambil': 2311, 'ragu': 2791, 'situasi': 3212, 'evaluasi': 916, 'konfirmasi': 1698, 'produk': 2729, 'shopee': 3167, 'polres': 2685, 'trenggalek': 3607, 'yng': 3844, 'suka': 3316, 'nongkrong': 2377, 'temenya': 3460, 'glenn': 1049, 'nyusul': 2416, 'siksa': 3185, 'nama': 2273, 'kembali': 1591, 'syukur': 3365, 'panglime': 2507, 'linting': 1903, 'korona': 1726, 'sial': 3171, 'emg': 894, 'ramu': 2806, 'empon': 898, 'jahe': 1364, 'bagus': 262, 'temulawak': 3466, 'cengkeh': 590, 'kunir': 1781, 'kunyit': 1783, 'sereh': 3128, 'kayu': 1558, 'manis': 2013, 'gula': 1090, 'madu': 1949, 'yoyo': 3850, 'potret': 2709, 'sd': 3028, 'vita': 3745, 'school': 3026, 'contact': 633, 'us': 3709, 'cak': 564, 'dolan': 826, 'laahh': 1794, 'kejar': 1572, 'modus': 2192, 'amit': 126, 'ngga': 2340, 'ngerawat': 2330, 'apaa': 178, 'wahai': 3756, 'convic': 636, 'convin': 637, 'adoiii': 31, 'bebal': 347, 'srikandi': 3276, 'pasuruan': 2541, 'unggal': 3692, 'lilir': 1896, 'ngaragap': 2315, 'tarang': 3425, 'heunteu': 1182, 'panas': 2489, 'aliansi': 95, 'sinergi': 3196, 'denpasar': 729, 'lurus': 1942, 'sejarah': 3055, 'tl': 3561, 'kaga': 1482, 'sliweran': 3224, 'ud': 3666, 'kelar': 1579, 'gmna': 1052, 'jatim': 1388, 'tumpu': 3641, 'mereka': 2118, 'fasilitas': 929, 'layan': 1847, 'stimulus': 3292, 'nunggu': 2394, 'beres': 396, 'news': 2307, 'anchor': 139, 'pake': 2473, 'lah': 1802, 'meng': 2099, 'msy': 2212, 'rezim': 2877, 'jkw': 1425, 'remeh': 2855, 'turis': 3652, 'proyekx': 2745, 'investor': 1331, 'tka': 3558, 'cina': 609, 'komunis': 1694, 'gagap': 981, 'kendali': 1606, 'garuda': 1004, 'sulsel': 3323, 'post': 2703, 'gumpal': 1091, 'nyawa': 2408, 'ventilator': 3732, 'has': 1151, 'been': 353, 'published': 2757, 'on': 2433, 'kafe': 1481, 'kepo': 1614, 'sayur': 3013, 'serbu': 3125, 'warganet': 3773, 'rusli': 2929, 'habibie': 1103, 'umum': 3688, 'foto': 958, 'adiwinata': 27, 'solihin': 3249, 'sengaja': 3109, 'lalai': 1813, 'dholat': 749, 'jamaah': 1370, 'dilarangngopi': 770, 'warung': 3780, 'dilarangpesta': 771, 'nikah': 2361, 'dibubarinada': 758, 'yag': 3828, 'ngelayat': 2322, 'ngak': 2310, 'dibubarin': 757, 'madih': 1947, 'facebook': 920, 'whatsapp': 3793, 'instagram': 1322, 'bayan': 336, 'yadda': 3827, 'zakazaki': 3859, 'gujewa': 1089, 'juara': 1443, 'pubg': 2756, 'ned': 2298, 'brotherhood': 512, 'selangor': 3076, 'cybergames': 666, 'edition': 869, 'tahniah': 3375, 'cyber': 665, 'games': 988, 'sumbang': 3329, 'johan': 1432, 'kutip': 1788, 'pesisir': 2622, 'sisir': 3205, 'kontak': 1711, 'artikel': 201, 'timbus': 3541, 'salji': 2965, 'konfem': 1697, 'dorang': 830, 'kapal': 1517, 'abang': 6, 'tegas': 3441, 'dk': 810, 'pbb': 2553, 'tunjuk': 3651, 'thdp': 3516, 'damai': 683, 'solidaritas': 3248, 'diskriminasi': 799, 'stigmatisasi': 3290, 'garda': 1001, 'cerdas': 594, 'sampai': 2975, 'taruh': 3427, 'dimakamin': 772, 'nurani': 2395, 'jasa': 1384, 'gugur': 1087, 'jihad': 1417, 'telanjang': 3448, 'tonton': 3585, 'makassar': 1974, 'kotamakassar': 1736, 'realokasi': 2834, 'refocusing': 2843, 'anggar': 148, 'milyar': 2138, 'kesan': 1627, 'rentas': 2861, 'lapis': 1837, 'iaitu': 1243, 'ubat': 3663, 'ideologi': 1252, 'analisis': 134, 'geo': 1028, 'legar': 1862, 'mohd': 2195, 'azmi': 246, 'abdul': 7, 'hamid': 1130, 'milad': 2133, 'imam': 1276, 'mahdi': 1958, 'afs': 41, 'dpw': 837, 'abi': 9, 'sumsel': 3333, 'dpd': 833, 'kab': 1466, 'probolinggo': 2727, 'yah': 3830, 'dar': 692, 'ngomong': 2348, 'dikit': 767, 'kepala': 1612, 'bodrex': 481, 'ko': 1677, 'antokkan': 171, 'batu': 327, 'pun': 2769, 'pak': 2470, 'sampek': 2977, 'paham': 2466, 'ndak': 2293, 'sepeda': 3115, 'joging': 1430, 'hasut': 1156, 'ustad': 3716, 'kadal': 1474, 'gurun': 1096, 'minimal': 2147, 'kemenkumham': 1596, 'asimilasi': 213, 'orng': 2450, 'bagusnye': 263, 'disuru': 805, 'nanganin': 2279, 'sensasi': 3112, 'mele': 2080, 'nesnes': 2305, 'zona': 3865, 'salat': 2961, 'insha': 1320, 'websiteportal': 3788, 'beritamedia': 399, 'muat': 2215, 'timeline': 3543, 'pagebluk': 2464, 'janji': 1377, 'tinggi': 3549, 'jogja': 1431, 'refreshing': 2844, 'ngerencanain': 2332, 'thn': 3521, 'lalup': 1815, 'boro': 490, 'diskitar': 797, 'gabisa': 976, 'please': 2665, 'go': 1054, 'away': 239, 'maros': 2029, 'postif': 2705, 'gowa': 1068, 'vairus': 3729, 'cowok': 650, 'covida': 648, 'cewek': 600, 'wkwkwkw': 3810, 'wafat': 3753, 'isa': 1337, 'almasih': 105, 'kristen': 1745, 'katholik': 1546, 'ayok': 242, 'duh': 854, 'gusti': 1098, 'rsud': 2912, 'sembako': 3088, 'mapolsek': 2021, 'dn': 816, 'makoramil': 1983, 'tgl': 3512, 'dilakukankapolsek': 769, 'tawangharjo': 3432, 'segenap': 3049, 'ucap': 3665, 'nganjuk': 2312, 'maju': 1966, 'rebecca': 2837, 'ramona': 2805, 'rupa': 2926, 'lahan': 1803, 'masal': 2033, 'turut': 3654, 'mempersiapkanya': 2087, 'payung': 2551, 'hujan': 1234, 'vid': 3738, 'sejak': 3054, 'makar': 1971, 'lambat': 1818, 'balas': 282, 'ekonominama': 881, 'aulia': 231, 'nashwa': 2287, 'nathaniano': 2291, 'mipa': 2154, 'sma': 3227, 'negeri': 2301, 'banyudonosaya': 306, 'materi': 2048, 'thread': 3525, 'miliaryang': 2135, 'bohong': 484, 'wander': 3766, 'luiz': 1930, 'tes': 3502, 'termination': 3494, 'cable': 561, 'for': 956, 'stand': 3281, 'by': 556, 'gen': 1024, 'set': 3148, 'kuarantin': 1758, 'quarantine': 2786, 'low': 1922, 'risk': 2891, 'patient': 2543, 'maeps': 1950, 'el': 884, 'asamau': 209, 'alor': 107, 'kesedihn': 1629, 'sakititulah': 2956, 'air': 51, 'tuhankrna': 3631, 'mulia': 2233, 'hrus': 1227, 'onak': 2434, 'duri': 863, 'rumi': 2923, 'matsnawi': 2051, 'jilid': 1418, 'bait': 275, 'bgitulah': 419, 'ala': 82, 'tngah': 3568, 'mwbahny': 2257, 'badai': 253, 'psti': 2751, 'flex': 949, 'haritu': 1145, 'increase': 1289, 'production': 2728, 'apabila': 179, 'une': 3690, 'beast': 346, 'covi': 646, 'asa': 206, 'torus': 3588, 'gosok': 1065, 'biji': 437, 'fredly': 962, 'harga': 1143, 'sungkawa': 3336, 'segitunya': 3051, 'hastry': 1155, 'sp': 3263, 'bisaindonesia': 457, 'tifauzia': 3534, 'cita': 615, 'rukuk': 2920, 'bayi': 341, 'susu': 3349, 'burung': 551, 'haiwan': 1117, 'tugu': 3628, 'laki': 1808, 'lakibukan': 1809, 'pengangguranbukan': 2586, 'buaya': 524, 'sosmedgak': 3261, 'gantenggak': 993, 'musti': 2250, 'kayayg': 1557, 'matane': 2047, 'rak': 2798, 'jelalat': 1400, 'ngeliat': 2325, 'tunai': 3645, 'hapus': 1141, 'omnibus': 2431, 'law': 1844, 'ribu': 2881, 'demo': 719, 'tg': 3509, 'aprildalam': 193, 'personil': 2618, 'karanglewas': 1525, 'blp': 472, 'kondusif': 1696, 'cek': 582, 'sterilisasi': 3289, 'kec': 1563, 'survei': 3344, 'pekan': 2569, 'ibadah': 1246, 'yup': 3855, 'tuju': 3632, 'laut': 1843, 'wah': 3755, 'konkret': 1701, 'instruksi': 1323, 'banteng': 299, 'frontliner': 967, 'bakti': 278, 'lhokseumawe': 1884, 'lidik': 1893, 'nasgor': 2286, 'mafia': 1951, 'malang': 1992, 'ubek': 3664, 'daging': 675, 'kambing': 1503, 'flish': 950, 'bm': 473, 'aj': 52, 'kl': 1662, 'gx': 1101, 'ad': 18, 'udahan': 3670, 'coronanya': 641, 'huhu': 1233, 'ntb': 2386, 'uii': 3674, 'sampel': 2978, 'hmpi': 1211, 'diskusi': 801, 'daring': 695, 'breaking': 503, 'kalbar': 1493, 'soedarso': 3244, 'tnp': 3571, 'mrk': 2207, 'mahfud': 1959, 'kpd': 1740, 'erlina': 911, 'burhan': 547, 'sudimara': 3313, 'makasih': 1973, 'patuh': 2545, 'ama': 114, 'coronamenindaklanjuti': 639, 'maklumat': 1980, 'kapolri': 1523, 'rangka': 2812, 'banjarnegara': 296, 'kades': 1478, 'tomori': 3582, 'bpk': 496, 'anas': 137, 'olabahim': 2426, 'tunda': 3646, 'fix': 945, 'perang': 2596, 'dingin': 776, 'berlanjutsampe': 403, 'debat': 707, 'masalah': 2034, 'selesaiatausampe': 3080, 'tki': 3559, 'teh': 3442, 'trs': 3616, 'trombosit': 3615, 'swab': 3353, 'sblmnya': 3020, 'pgn': 2629, 'drujuk': 845, 'rshs': 2910, 'terbit': 3488, 'telegram': 3449, 'poin': 2678, 'hina': 1197, 'sby': 3024, 'unggul': 3693, 'tiap': 3528, 'ngomongin': 2349, 'geligmana': 1019, 'mlah': 2168, 'jelasjkt': 1402, 'aiptu': 50, 'slamet': 3223, 'kundarjanto': 1779, 'sekcam': 3061, 'suluh': 3327, 'ds': 846, 'karanggude': 1524, 'kulon': 1774, 'anomali': 163, 'eyang': 919, 'sepenuh': 3116, 'bila': 441, 'lahanda': 1804, 'anjir': 158, 'anjirr': 159, 'rusunawa': 2931, 'najam': 2270, 'gusdurian': 1097, 'tangerang': 3407, 'raya': 2828, 'nominal': 2373, 'rupiah': 2927, 'tera': 3483, 'brupa': 514, 'sandang': 2985, 'atau': 225, 'pangan': 2500, 'antar': 165, 'cp': 651, 'akn': 70, 'gaul': 1009, 'selingkuh': 3081, 'ikat': 1264, 'bahkan': 270, 'sentuh': 3113, 'wababh': 3749, 'amiin': 123, 'cilegon': 608, 'tembus': 3458, 'pdip': 2559, 'sore': 3255, 'mulu': 2234, 'ha': 1102, 'sering': 3133, 'nyender': 2410, 'tembok': 3457, 'tetangga': 3506, 'gag': 979, 'numpang': 2393, 'wifi': 3801, 'suara': 3306, 'ente': 907, 'panggung': 2503, 'mo': 2188, 'kmpanye': 1673, 'knp': 1676, 'ceritain': 597, 'perban': 2597, 'miris': 2155, 'pru': 2746, 'mesti': 2125, 'menolakahli': 2107, 'kkm': 1661, 'membenteras': 2084, 'kaur': 1550, 'hidayat': 1186, 'casenya': 574, 'konsentrasi': 1704, 'ekosisnya': 882, 'begini': 355, 'muhaimin': 2223, 'ngerasa': 2329, 'cemas': 587, 'bunda': 541, 'maia': 1962, 'roy': 2906, 'suryo': 3345, 'nilai': 2363, 'non': 2375, 'gasalah': 1006, 'kmrn': 1675, 'cm': 623, 'ak': 60, 'sevvv': 3154, 'menpan': 2108, 'tjahjo': 3556, 'kumolo': 1776, 'surat': 3340, 'edar': 868, 'pns': 2676, 'pppk': 2710, 'mobil': 2189, 'sumenep': 3332, 'kadinkes': 1479, 'dinas': 775, 'fb': 932, 'trus': 3617, 'idn': 1254, 'times': 3544, 'lgsg': 1883, 'shocked': 3165, 'situ': 3211, 'lala': 1812, 'tolongin': 3581, 'sahabat': 2947, 'khawatir': 1643, 'kecemasa': 1566, 'nkegelisahan': 2367, 'enjoy': 905, 'tmnnya': 3565, 'asik': 212, 'matkul': 2050, 'rumit': 2924, 'nyebelin': 2409, 'naudzubillah': 2292, 'semster': 3098, 'wkwk': 3809, 'ikan': 1263, 'tiada': 3527, 'padang': 2462, 'infeksi': 1303, 'tokh': 3578, 'nyanyi': 2403, 'sidoarjo': 3178, 'adab': 20, 'akhlak': 68, 'indah': 1290, 'gol': 1058, 'tabligh': 3366, 'spike': 3271, 'punca': 2770, 'ialah': 1244, 'degil': 710, 'uat': 3661, 'saring': 2999, 'akur': 79, 'jurnal': 1458, 'international': 1328, 'journal': 1436, 'of': 2422, 'infectious': 1302, 'diseases': 790, 'manifestasi': 2012, 'meningitis': 2105, 'nyeri': 2411, 'hebat': 1166, 'nasofaring': 2290, 'orofaring': 2451, 'csf': 654, 'lcs': 1853, 'income': 1288, 'event': 917, 'acara': 13, 'wedding': 3789, 'birthday': 453, 'corporate': 643, 'cancel': 569, 'akun': 78, 'nyinyirin': 2412, 'pa': 2458, 'negor': 2302, 'partai': 2530, 'kontribusi': 1714, 'rokok': 2905, 'lima': 1897, 'so': 3240, 'world': 3816, 'tournya': 3593, 'morning': 2199, 'pandemic': 2495, 'fraksi': 960, 'pkb': 2653, 'bahas': 267, 'pulung': 2768, 'karung': 1536, 'kamsudnya': 1509, 'jaring': 1382, 'layat': 1848, 'suspekpositif': 3348, 'basuh': 322, 'kaki': 1488, 'iesus': 1258, 'teladan': 3446, 'tuhan': 3630, 'thd': 3515, 'sdg': 3029, 'jagad': 1361, 'ritual': 2893, 'komunal': 1693, 'tobat': 3574, 'personal': 2616, 'suwun': 3352, 'mbakmugo': 2062, 'idrekan': 1255, 'goblobanget': 1055, 'wtf': 3821, 'benci': 378, 'anamnesis': 135, 'meninggaludah': 2104, 'dijahatin': 764, 'memyuruh': 2088, 'lidah': 1892, 'telinga': 3450, 'nder': 2295, 'mensos': 2110, 'jitu': 1421, 'habis': 1104, 'april': 192, 'telah': 3447, 'mei': 2075, 'admin': 28, 'stempel': 3288, 'rfid': 2878, 'kambuh': 1504, 'kesehatanatau': 1630, 'rusak': 2928, 'bourne': 494, 'identity': 1251, 'chipstay': 605, 'healthy': 1165, 'gaduh': 977, 'tingkah': 3550, 'panjat': 2510, 'teman': 3454, 'lubuk': 1928, 'krisis': 1744, 'roda': 2900, 'putar': 2779, 'pergub': 2602, 'smoga': 3234, 'tumpah': 3639, 'salib': 2963, 'tanda': 3402, 'die': 762, 'ato': 228, 'ngobatin': 2347, 'lipi': 1904, 'latih': 1841, 'spesimen': 3269, 'jubir': 1444, 'radio': 2790, 'percaya': 2598, 'siram': 3201, 'pke': 2654, 'komentar': 1688, 'tik': 3536, 'tok': 3576, 'loker': 1916, 'alternatif': 109, 'issue': 1344, 'nyaris': 2405, 'dhe': 748, 'leluhur': 1869, 'jepara': 1410, 'perhati': 2603, 'protokol': 2739, 'rilis': 2884, 'pribadi': 2720, 'ia': 1242, 'salut': 2968, 'klarifikasi': 1664, 'berani': 388, 'puruk': 2775, 'sanes': 2986, 'na': 2259, 'laukdaun': 1842, 'we': 3786, 'lamun': 1822, 'tos': 3589, 'juru': 1459, 'bicara': 432, 'nominasi': 2374, 'cluster': 622, 'kober': 1679, 'deret': 733, 'peti': 2626, 'mayat': 2056, 'bungkus': 542, 'plastik': 2662, 'transparan': 3598, 'twitnya': 3658, 'elisa': 887, 'loh': 1913, 'iseng': 1338, 'ngitung': 2346, 'selisih': 3082, 'pemrov': 2579, 'kirain': 1656, 'pspb': 2750, 'jatikalen': 1387, 'himbuan': 1195, 'sajatidak': 2951, 'piknik': 2640, 'allaah': 99, 'bimbing': 446, 'cahaya': 562, 'sejati': 3056, 'robb': 2899, 'akh': 65, 'cela': 585, 'tipu': 3555, 'daya': 703, 'musnah': 2248, 'negri': 2303, 'bandar': 286, 'udara': 3672, 'sultan': 3324, 'aji': 58, 'muhammad': 2224, 'sulaiman': 3319, 'sams': 2979, 'pinggan': 2646, 'kunjung': 1782, 'selmat': 3083, 'positifterjangkit': 2699, 'aamiingimana': 2, 'menyeluruhtau': 2114, 'coronangeri': 640, 'sharing': 3162, 'is': 1336, 'internasionaljawab': 1327, 'aamiinmulut': 3, 'mrasa': 2205, 'aau': 4, 'merawatpasien': 2117, 'wargavideo': 3774, 'yauntuk': 3838, 'rumahlindungi': 2922, 'pedulipandemi': 2565, 'pekerjaanpenghasilan': 2570, 'adiluntuk': 26, 'twitter': 3659, 'entah': 906, 'syaitan': 3361, 'yela': 3841, 'kurung': 1786, 'dia': 751, 'hahahahahahahahahh': 1113, 'israel': 1343, 'palestina': 2481, 'gegara': 1014, 'play': 2663, 'list': 1906, 'film': 940, 'pemkot': 2577, 'and': 140, 'kasi': 1540, 'begooooo': 358, 'temas': 3455, 'var': 3731, 'roger': 2901, 'labuanfm': 1798, 'mej': 2076, 'zico': 3863, 'bin': 447, 'sual': 3304, 'wp': 3819, 'labu': 1797, 'topik': 3587, 'cabar': 560, 'apm': 188, 'pukul': 2761, 'fikir': 938, 'kot': 1732, 'hmmm': 1210, 'coviddiberikan': 649, 'sikap': 3184, 'ketat': 1634, 'umbar': 3684, 'aurat': 232, 'samawi': 2972, 'rapih': 2821, 'sopan': 3253, 'kesiap': 1631, 'walikota': 3764, 'parepare': 2526, 'vidcon': 3739, 'kemendagri': 1593, 'pesan': 2621, 'hadiah': 1107, 'sinar': 3194, 'land': 1825, 'out': 2457, 'operasi': 2437, 'tinombala': 3552, 'touna': 3591, 'huni': 1238, 'ngapasi': 2314, 'zhombong': 3862, 'malminga': 1996, 'erupsi': 913, 'krakatau': 1742, 'geser': 1035, 'pajarakan': 2469, 'prov': 2740, 'bau': 329, 'pyhsical': 2784, 'nanya': 2282, 'kirim': 1657, 'patut': 2546, 'gar': 998, 'adsemoga': 33, 'demi': 718, 'sm': 3226, 'adik': 24, 'gatau': 1008, 'thankyou': 3513, 'ci': 607, 'ki': 1648, 'kamtibmas': 1510, 'duga': 852, 'provokator': 2743, 'gampang': 989, 'februari': 934, 'gemes': 1021, 'wkt': 3808, 'skrg': 3218, 'smua': 3237, 'moha': 2194, 'nah': 2267, 'pimpin': 2644, 'gubernurwalikotabupati': 1084, 'kuningan': 1780, 'citra': 617, 'jemput': 1404, 'jambi': 1371, 'teknesi': 3444, 'hai': 1114, 'cay': 577, 'terbang': 3487, 'refund': 2845, 'fkg': 946, 'unhas': 3695, 'trasmisi': 3601, 'alergi': 92, 'bersin': 407, 'batuk': 328, 'betul': 416, 'kumat': 1775, 'nahan': 2268, 'kost': 1731, 'haiya': 1118, 'gi': 1037, 'shensiong': 3163, 'hais': 1116, 'nggak': 2341, 'stop': 3296, 'hall': 1125, 'muak': 2214, 'it': 1349, 'okey': 2424, 'parnoan': 2529, 'achmad': 16, 'yurianto': 3857, 'tong': 3583, 'besarisi': 409, 'mungkinsimpanlpas': 2240, 'beransur': 389, 'confirmed': 632, 'that': 3514, 'hang': 1133, 'while': 3796, 'huha': 1232, 'bising': 459, 'lambung': 1819, 'believe': 370, 'me': 2066, 'malakin': 1990, 'kado': 1480, 'barusan': 316, 'ajak': 56, 'indoapril': 1296, 'tantang': 3420, 'sesuai': 3147, 'palakin': 2478, 'wkwkwkwkwk': 3811, 'lebay': 1856, 'bkn': 463, 'apart': 183, 'papa': 2518, 'nyusahin': 2415, 'bojonegoro': 485, 'kukuh': 1771, 'dtg': 849, 'lbp': 1851, 'justru': 1462, 'ikn': 1268, 'tuk': 3633, 'kenapa': 1604, 'pamnya': 2486, 'kp': 1739, 'setu': 3152, 'bintara': 452, 'rtrw': 2915, 'macem': 1946, 'jokowi': 1434, 'rejeki': 2847, 'gausah': 1010, 'menprovokasi': 2109, 'gasuka': 1007, 'yagausah': 3829, 'mmperkeruh': 2175, 'afau': 37, 'pmi': 2674, 'muba': 2216, 'secepetnya': 3042, 'ngilang': 2345, 'beraktifitas': 387, 'ngelebelin': 2323, 'pdi': 2558, 'biru': 454, 'pan': 2488, 'eneg': 901, 'driver': 841, 'ngelunjak': 2327, 'ne': 2296, 'tri': 3608, 'divernya': 807, 'control': 635, 'nie': 2358, 'riso': 2892, 'jea': 1397, 'effect': 874, 'stresss': 3301, 'dahla': 678, 'wfh': 3791, 'aminnn': 125, 'infusinteman': 1310, 'bawain': 332, 'flu': 951, 'panduanamalan': 2498, 'industri': 1301, 'bina': 448, 'ampi': 129, 'palas': 2479, 'becak': 351, 'kalimat': 1498, 'statement': 3284, 'pakar': 2472, 'menciderai': 2095, 'profesi': 2731, 'pantesan': 2516, 'gugat': 1086, 'pilpres': 2642, 'twit': 3657, 'bye': 557, 'optimis': 2442, 'kenyataanya': 1610, 'melow': 2081, 'dentum': 730, 'pamoyanan': 2487, 'sementara': 3093, 'basmi': 320, 'kegabutan': 1571, 'akuautocorrect': 77, 'versi': 3733, 'hah': 1110, 'gunting': 1094, 'rambut': 2803, 'arini': 198, 'positive': 2701, 'travelers': 3602, 'gardi': 1002, 'tour': 3592, 'standby': 3282, 'senin': 3111, 'traveling': 3603, 'orgnya': 2449, 'aneh': 145, 'mw': 2256, 'kemasy': 1589, 'sesamatenaga': 3144, 'puter': 2780, 'keras': 1618, 'masyaraktnya': 2045, 'kerasss': 1619, 'menggucang': 2100, 'arus': 203, 'izin': 1354, 'tiba': 3529, 'jateng': 1386, 'dicancel': 759, 'konsekuensi': 1703, 'hatiserampangan': 1158, 'sedap': 3044, 'lee': 1860, 'erm': 912, 'simpan': 3189, 'bile': 444, 'umi': 3685, 'gunung': 1095, 'rap': 2817, 'lanud': 1834, 'zam': 3860, 'hemat': 1173, 'sebahagian': 3037, 'libat': 1887, 'objektif': 2418, 'mco': 2065, 'afiat': 38, 'tpi': 3595, 'hendak': 1174, 'panggil': 2502, 'ikhlas': 1266, 'takdir': 3384, 'reuni': 2874, 'boleh': 486, 'cok': 627, 'pakek': 2474, 'jugaa': 1448, 'full': 971, 'nyasebetulnya': 2406, 'vitamin': 3746, 'spesifik': 3268, 'ras': 2822, 'dngan': 817, 'jngan': 1428, 'gnakan': 1053, 'jga': 1413, 'ngasih': 2316, 'parno': 2528, 'td': 3436, 'rsu': 2911, 'ngelewatin': 2324, 'mak': 1967, 'dgr': 747, 'bgn': 421, 'kosong': 1730, 'sekelurga': 3062, 'kabur': 1471, 'krmh': 1750, 'dear': 706, 'tukang': 3634, 'lapar': 1836, 'aing': 49, 'mainnongki': 1964, 'ngetok': 2337, 'cuy': 664, 'bingung': 451, 'kabupatenkota': 1470, 'diy': 808, 'sabtu': 2941, 'bincang': 450, 'sis': 3203, 'mcm': 2064, 'de': 705, 'group': 1077, 'senang': 3105, 'wali': 3763, 'mukmin': 2230, 'lain': 1807, 'rapi': 2819, 'rekat': 2849, 'jari': 1381, 'jemari': 1403, 'follow': 955, 'mmg': 2173, 'be': 344, 'strong': 3302, 'tumpuanatm': 3642, 'fasa': 928, 'ujung': 3678, 'tenggarong': 3473, 'taman': 3394, 'dengam': 724, 'sepi': 3118, 'misal': 2157, 'konteks': 1712, 'cakap': 565, 'maksud': 1987, 'plg': 2666, 'local': 1911, 'government': 1067, 'mngingat': 2183, 'kewenangn': 1641, 'relatif': 2851, 'mantappppp': 2016, 'hbs': 1164, 'dlu': 814, 'skg': 3216, 'ilham': 1273, 'haha': 1111, 'ceo': 592, 'gojek': 1057, 'kevin': 1640, 'aluwi': 112, 'ibukota': 1249, 'tuban': 3624, 'camat': 568, 'plumpang': 2670, 'berkatifitas': 402, 'alumni': 110, 'relief': 2853, 'fund': 972, 'jabodetabek': 1357, 'woyyyy': 3818, 'korang': 1721, 'kene': 1608, 'arah': 194, 'dagang': 674, 'asli': 214, 'pandai': 2492, 'hehehe': 1171, 'bulu': 537, 'vidio': 3741, 'colltunda': 630, 'mudikmuuntuk': 2221, 'mubarak': 2217, 'lc': 1852, 'pembahasanmasalah': 2574, 'fiqih': 941, 'sambut': 2973, 'tenang': 3469, 'betapa': 412, 'tulah': 3635, 'takda': 3382, 'rencana': 2858, 'topeng': 3586, 'sosok': 3262, 'sekuler': 3070, 'demokrasi': 720, 'barber': 313, 'chef': 603, 'dada': 669, 'bidik': 434, 'gerak': 1030, 'kelola': 1584, 'adminsitus': 29, 'blog': 470, 'citizen': 616, 'journalist': 1437, 'alami': 85, 'simptom': 3191, 'faktor': 924, 'pangkin': 2505, 'wakakakkaka': 3758, 'agak': 42, 'tolong': 3580, 'seriously': 3134, 'straitstime': 3298, 'deh': 711, 'representasi': 2866, 'derita': 734, 'tbh': 3434, 'essential': 915, 'pon': 2691, 'kucil': 1764, 'saling': 2964, 'ntuk': 2388, 'langgan': 1827, 'khusus': 1647, 'pijat': 2637, 'diskon': 798, 'tarif': 3426, 'imunitas': 1286, 'mhn': 2130, 'retweet': 2873, 'olahragatugas': 2428, 'jas': 1383, 'menularsub': 2113, 'hangpe': 1135, 'elok': 889, 'jelah': 1399, 'kecik': 1568, 'taknak': 3385, 'besor': 411, 'acah': 12, 'elit': 888, 'buto': 554, 'minimalisir': 2148, 'resmi': 2870, 'dijalanin': 765, 'lejit': 1865, 'drastis': 839, 'makmal': 1981, 'johor': 1433, 'kesiapsiagaan': 1632, 'ekang': 879, 'otoriter': 2456, 'gerakin': 1031, 'anarko': 136, 'kemudi': 1598, 'gadungan': 978, 'diksi': 768, 'pki': 2656, 'diramein': 782, 'bohir': 483, 'orba': 2446, 'haus': 1161, 'curi': 661, 'pola': 2681, 'basi': 319, 'surga': 3341, 'azab': 243, 'bla': 464, 'heh': 1169, 'ngadi': 2308, 'hih': 1189, 'sewot': 3155, 'akutu': 81, 'magelang': 1952, 'rahayu': 2792, 'polda': 2682, 'rinciannya': 2885, 'papuasarmi': 2521, 'kadang': 1475, 'tbtb': 3435, 'gempatsunami': 1023, 'gmn': 1051, 'random': 2809, 'thoughts': 3523, 'indo': 1295, 'gilir': 1041, 'mitos': 2161, 'indigo': 1292, 'ampe': 128, 'buset': 552, 'males': 1995, 'parahhhhhh': 2524, 'angkara': 151, 'sorot': 3257, 'ridwan': 2882, 'kamil': 1506, 'syahrini': 3360, 'hus': 1239, 'sanah': 2984, 'terimaksih': 3491, 'apresiasi': 191, 'proses': 2737, 'menghalagi': 2101, 'jera': 1411, 'banjir': 297, 'misterius': 2160, 'gempa': 1022, 'gua': 1080, 'klaten': 1666, 'phbs': 2631, 'gizi': 1046, 'jemur': 1405, 'menit': 2106, 'sidakarya': 3176, 'pakerisan': 2475, 'panjer': 2511, 'pancoran': 2491, 'red': 2838, 'zone': 3866, 'ngapa': 2313, 'mara': 2022, 'maratobat': 2025, 'ngp': 2351, 'ngetwit': 2338, 'bisayaampun': 458, 'mase': 2035, 'pantai': 2513, 'tenggelam': 3474, 'kejulidan': 1574, 'anying': 175, 'ptsp': 2753, 'balai': 281, 'nanggalo': 2280, 'positifterkonfirmasi': 2700, 'sulawesi': 3320, 'tenggara': 3472, 'benjol': 384, 'kelamin': 1578, 'takun': 3387, 'cdc': 579, 'apakah': 180, 'olahraga': 2427, 'india': 1291, 'episenter': 908, 'sigi': 3180, 'permai': 2608, 'pedurungan': 2566, 'kel': 1577, 'trogomulyo': 3614, 'gotong': 1066, 'royong': 2907, 'senam': 3104, 'mediasi': 2069, 'karen': 1530, 'cenderung': 589, 'jurus': 1460, 'impor': 1283, 'raw': 2825, 'sugar': 3314, 'dpt': 836, 'gkp': 1047, 'cemar': 586, 'farmasi': 927, 'medica': 2070, 'hydro': 1241, 'chloroquine': 606, 'direktur': 784, 'kongko': 1699, 'hi': 1183, 'suroboyokusemangat': 3342, 'hungry': 1237, 'box': 495, 'fresqa': 964, 'bistro': 461, 'kaltim': 1501, 'aparat': 181, 'srimahi': 3277, 'tambun': 3396, 'bekas': 359, 'gandeng': 990, 'bem': 374, 'stai': 3280, 'attaqwa': 229, 'nebar': 2297, 'suci': 3311, 'huffttt': 1230, 'syarat': 3362, 'bangka': 292, 'belitung': 371, 'pk': 2651, 'cc': 578, 'indikasi': 1294, 'usai': 3713, 'bmi': 474, 'istiqomah': 1345, 'setinggi': 3151, 'sukarelawan': 3317, 'penjuru': 2590, 'nusantara': 2396, 'google': 1063, 'apple': 190, 'kolaborasi': 1685, 'lacak': 1799, 'jangkau': 1375, 'populasi': 2695, 'tvri': 3656, 'fakhrul': 922, 'zaman': 3861, 'mesej': 2122, 'terusi': 3500, 'lukis': 1932, 'mural': 2242, 'madiun': 1948, 'mamah': 1999, 'maksa': 1985, 'undur': 3689, 'ran': 2807, 'army': 199, 'diapgred': 755, 'aa': 0, 'pb': 2552, 'hmi': 1208, 'bakornas': 277, 'lkmi': 1909, 'snak': 3239, 'dapur': 691, 'inisiasi': 1315, 'ciputat': 613, 'trimakasih': 3610, 'pansos': 2512, 'deel': 708, 'tepi': 3481, 'tani': 3416, 'asupan': 221, 'oppa': 2440, 'tamvan': 3399, 'tiel': 3533, 'nyadar': 2399, 'jdi': 1395, 'paus': 2548, 'ah': 46, 'roket': 2904, 'saturnus': 3006, 'bpknya': 497, 'napi': 2283, 'plus': 2671, 'was': 3781, 'tenakesnya': 3468, 'manajer': 2006, 'kebun': 1562, 'baby': 250, 'garaga': 1000, 'udaah': 3668, 'ditemuin': 806, 'bilangin': 443, 'salon': 2966, 'model': 2191, 'flat': 948, 'what': 3792, 'life': 1894, 'sulit': 3322, 'paulo': 2547, 'sergio': 3130, 'pencil': 2584, 'provokasi': 2742, 'oknum': 2425, 'cantik': 571, 'impiann': 1282, 'kabul': 1468, 'impi': 1281, 'sembunyi': 3091, 'karantinaaa': 1527, 'awas': 237, 'samarinda': 2971, 'amuk': 131, 'kaca': 1472, 'ijtima': 1262, 'umkm': 3686, 'bontang': 489, 'tuned': 3647, 'tepis': 3482, 'peka': 2568, 'golkar': 1059, 'sumut': 3334, 'sekian': 3063, 'ml': 2167, 'coli': 629, 'ganti': 994, 'kancut': 1513, 'jamur': 1373, 'halal': 1122, 'gap': 995, 'ternak': 3496, 'semut': 3103, 'wqwq': 3820, 'sadja': 2944, 'casting': 576, 'qaqaa': 2785, 'rapat': 2818, 'muspikel': 2249, 'keprabon': 1615, 'salamat': 2960, 'brewok': 504, 'club': 621, 'renti': 2862, 'jgan': 1414, 'cukur': 659, 'calon': 566, 'mertua': 2121, 'ajig': 59, 'antologi': 172, 'puisi': 2759, 'alam': 84, 'tempuh': 3464, 'staf': 3279, 'kokurikulum': 1684, 'uitm': 3675, 'hantar': 1136, 'maksimum': 1986, 'buntu': 543, 'beda': 352, 'seluncurann': 3084, 'bea': 345, 'cukai': 657, 'fiskal': 943, 'prosedural': 2736, 'mimin': 2139, 'antiseptic': 169, 'wilkum': 3804, 'juhar': 1449, 'antisepti': 168, 'lengo': 1873, 'stm': 3294, 'hulu': 1236, 'deli': 716, 'serdang': 3127, 'testsekalinya': 3504, 'testtest': 3505, 'niat': 2357, 'diserahlan': 792, 'julang': 1451, 'kepul': 1617, 'herman': 1180, 'tadi': 3370, 'km': 1672, 'visa': 3744, 'smpai': 3236, 'ka': 1465, 'or': 2443, 'just': 1461, 'ppsb': 2711, 'dimulaiapr': 774, 'sumatera': 3328, 'ngulik': 2352, 'leceh': 1859, 'seksual': 3068, 'folks': 954, 'mampir': 2001, 'nitip': 2365, 'cerita': 596, 'reply': 2864, 'psi': 2748, 'saji': 2952, 'liput': 1905, 'pamdemi': 2485, 'karate': 1528, 'osh': 2453, 'resah': 2867, 'ukm': 3680, 'inkai': 1316, 'brawijaya': 501, 'actmalang': 17, 'rekan': 2848, 'sobat': 3242, 'before': 354, 'ekwkw': 883, 'lek': 1866, 'gais': 982, 'syuk': 3364, 'korea': 1724, 'bangkai': 293, 'tembak': 3456, 'timbul': 3540, 'lockdown': 1912, 'impossible': 1285, 'one': 2435, 'longgar': 1919, 'rangkai': 2813, 'penat': 2583, 'within': 3806, 'season': 3035, 'tanihub': 3417, 'startup': 3283, 'commerce': 631, 'tanam': 3401, 'herbal': 1179, 'scenario': 3025, 'kematiam': 1590, 'jt': 1440, 'bunuh': 545, 'sebut': 3040, 'maybe': 2057, 'tinada': 3546, 'gerbang': 1032, 'michdan': 2131, 'baasyir': 247, 'prioritas': 2724, 'rentan': 2860, 'asyir': 222, 'lebong': 1858, 'small': 3228, 'donation': 828, 'big': 435, 'impact': 1279, 'kalang': 1491, 'makbul': 1975, 'bengkulu': 383, 'personel': 2617, 'satbrimob': 3003, 'kepri': 1616, 'pulau': 2765, 'wibdata': 3799, 'bogor': 482, 'botak': 493, 'licin': 1891, 'hinggap': 1200, 'elu': 890, 'paramedis': 2525, 'saaa': 2936, 'ae': 36, 'tongg': 3584, 'war': 3770, 'kiamat': 1650, 'cemburu': 588, 'tanggani': 3410, 'kufur': 1769, 'minda': 2143, 'cocok': 626, 'kelinci': 1582, 'vaksin': 3730, 'api': 185, 'disifektan': 794, 'sayuranch': 3014, 'bas': 317, 'omzet': 2432, 'work': 3815, 'from': 966, 'homewfh': 1217, 'sak': 2953, 'dus': 864, 'thomas': 3522, 'hobbes': 1214, 'homo': 1219, 'homini': 1218, 'lupus': 1940, 'serigala': 3132, 'direkodkan': 783, 'akak': 62, 'tumpuk': 3643, 'berkah': 400, 'gerombol': 1034, 'punteun': 2772, 'denda': 722, 'dugi': 853, 'kaping': 1520, 'sbraha': 3023, 'sareng': 2997, 'upam': 3704, 'samsat': 2980, 'induk': 1300, 'soreang': 3256, 'nuhun': 2390, 'beras': 393, 'gp': 1069, 'ansor': 164, 'merauke': 2116, 'niaga': 2356, 'when': 3794, 'ngeluh': 2326, 'utuh': 3727, 'pen': 2581, 'ocehin': 2419, 'dewe': 743, 'fikirkan': 939, 'sisa': 3204, 'dipake': 778, 'gapunya': 997, 'drpd': 844, 'thx': 3526, 'mkn': 2165, 'tali': 3390, 'sokong': 3246, 'emosi': 896, 'psikososial': 2749, 'petang': 2625, 'huh': 1231, 'sulteng': 3325, 'riau': 2880, 'sulbar': 3321, 'babel': 248, 'sultra': 3326, 'bain': 274, 'resigned': 2868, 'msh': 2210, 'nomaden': 2372, 'inshaallah': 1321, 'ketemu': 1636, 'cpt': 652, 'bima': 445, 'arya': 204, 'hatta': 1159, 'hadith': 1109, 'gera': 1029, 'nabi': 2260, 'sabda': 2940, 'lapang': 1835, 'riwayat': 2894, 'bukhari': 532, 'pertamina': 2620, 'hiswana': 1204, 'respons': 2872, 'berprilaku': 405, 'goncangan': 1061, 'belakang': 363, 'selamatamin': 3075, 'amerika': 121, 'kapitalis': 1521, 'talksimak': 3391, 'dulur': 859, 'yogyakarta': 3845, 'kuliah': 1773, 'jarang': 1380, 'ngumpul': 2353, 'uts': 3726, 'bayarreal': 340, 'angkasa': 152, 'pura': 2774, 'persero': 2614, 'optimalisasi': 2441, 'adun': 34, 'bukit': 533, 'semuja': 3102, 'termometer': 3495, 'seri': 3131, 'maya': 2055, 'uji': 3677, 'degan': 709, 'ryochin': 2935, 'allahh': 101, 'dahh': 677, 'blok': 471, 'koli': 1686, 'pcs': 2554, 'otg': 2455, 'kepada': 1611, 'pangku': 2506, 'khilafah': 1645, 'desak': 736, 'kalsel': 1500, 'batola': 326, 'solusi': 3250, 'mgkin': 2129, 'kompak': 1690, 'spt': 3273, 'saran': 2995, 'om': 2430, 'faisal': 921, 'basri': 321, 'dl': 812, 'pmrintah': 2675, 'nemu': 2304, 'kordinasi': 1723, 'metode': 2128, 'tokcer': 3577, 'mulei': 2232, 'trmasuk': 3612, 'krja': 1748, 'beranta': 390, 'smuaa': 3238, 'malas': 1993, 'nagari': 2266, 'tandikek': 3404, 'patamuan': 2542, 'pariaman': 2527, 'alpenland': 108, 'management': 2005, 'dejavu': 712, 'discussion': 788, 'assignment': 219, 'grpmate': 1078, 'idk': 1253, 'but': 553, 'kuarintin': 1759, 'hm': 1207, 'not': 2383, 'tapi': 3423, 'takpelah': 3386, 'since': 3195, 'now': 2384, 'rmo': 2897, 'rd': 2831, 'phase': 2630, 'still': 3291, 'tadek': 3369, 'hsbc': 1228, 'asb': 210, 'reits': 2846, 'minimum': 2149, 'monthly': 2198, 'pulaktu': 2763, 'sirna': 3202, 'hutang': 1240, 'yaaa': 3825, 'kecewa': 1567, 'plnbumn': 2668, 'listrik': 1907, 'tertama': 3497, 'tngga': 3569, 'klu': 1669, 'kode': 1681, 'discon': 787, 'disebbkan': 791, 'tgga': 3510, 'sya': 3358, 'pkai': 2652, 'watt': 3784, 'trdmpak': 3604, 'terang': 3484, 'keliling': 1581, 'sat': 3002, 'lantas': 1833, 'bone': 488, 'as': 205, 'kengen': 1609, 'badminton': 255, 'kangen': 1515, 'jantung': 1378, 'teriak': 3489, 'jls': 1427, 'halte': 1128, 'gedung': 1013, 'kotor': 1737, 'changes': 601, 'everything': 918, 'kumulatif': 1778, 'buntut': 544, 'grobogan': 1075, 'keluyur': 1587, 'sragen': 3275, 'jagongan': 1362, 'tanon': 3419, 'gerindra': 1033, 'sul': 3318, 'alhamdulilah': 93, 'bright': 506, 'side': 3177, 'situation': 3213, 'uda': 3667, 'ngerokok': 2334, 'puasa': 2755, 'bnykan': 478, 'bukber': 531, 'tmn': 3564, 'jrg': 1438, 'ilang': 1271, 'makes': 1977, 'realize': 2833, 'family': 926, 'the': 3517, 'most': 2201, 'important': 1284, 'things': 3519, 'ngurus': 2354, 'santri': 2992, 'kaji': 1485, 'memperlekehkan': 2086, 'infeksipenyebaran': 1304, 'antibodi': 167, 'lab': 1795, 'curiga': 662, 'ulang': 3682, 'akurat': 80, 'asmara': 215, 'dahulu': 679, 'bara': 308, 'hangat': 1134, 'cium': 619, 'detak': 739, 'irama': 1333, 'lena': 1871, 'pesona': 2623, 'alun': 111, 'dangdut': 688, 'bawaslu': 334, 'magetan': 1953, 'hendrad': 1175, 'sendu': 3108, 'kt': 1753, 'bazar': 342, 'terawih': 3486, 'tgk': 3511, 'droplet': 842, 'elak': 885, 'ajah': 55, 'mantaaap': 2014, 'simpul': 3192, 'peristiwa': 2606, 'barangan': 310, 'ketawa': 1635, 'nada': 2261, 'sg': 3156, 'salahkelabakan': 2958, 'smntr': 3233, 'yaudahlah': 3837, 'biarin': 428, 'feel': 935, 'better': 415, 'kua': 1756, 'tamalate': 3392, 'pasang': 2534, 'suami': 3305, 'istri': 1347, 'jepang': 1409, 'siar': 3174, 'pers': 2612, 'takat': 3381, 'nyahkuman': 2400, 'simunjan': 3193, 'tumpang': 3640, 'gelap': 1016, 'dialogis': 753, 'palu': 2483, 'melaksanaka': 2079, 'selebaran': 3078, 'tangkal': 3414, 'swalayan': 3354, 'spbu': 3266, 'rutin': 2933, 'paket': 2476, 'methylprednisolone': 2127, 'cefi': 580, 'cespleng': 598, 'wayahna': 3785, 'bis': 455, 'sangka': 2989, 'mun': 2237, 'gohgoy': 1056, 'wae': 3752, 'anget': 146, 'dewa': 742, 'kukm': 1770, 'koperasi': 1717, 'marak': 2024, 'rat': 2824, 'bgm': 420, 'adidaya': 23, 'pmerintah': 2673, 'smkin': 3232, 'mmprlihatkan': 2177, 'wjh': 3807, 'bgitu': 418, 'nyta': 2413, 'bhkn': 425, 'brjasa': 510, 'mnyelamatkannya': 2185, 'msa': 2209, 'search': 3034, 'ketik': 1637, 'refleks': 2841, 'nge': 2318, 'ngetik': 2336, 'haunts': 1160, 'kayangan': 1556, 'kusta': 1787, 'yess': 3842, 'kmren': 1674, 'priksanya': 2723, 'nampung': 2277, 'ttep': 3619, 'komsos': 1692, 'gubeng': 1082, 'subiyakto': 3310, 'bhakti': 424, 'bangsa': 294, 'tanjung': 3418, 'ringkas': 2888, 'thinking': 3520, 'keliru': 1583, 'songolas': 3252, 'ilusi': 1275, 'kontrol': 1715, 'superioritas': 3337, 'fu': 970, 'grafik': 1072, 'bantul': 303, 'dicurhatin': 760, 'jenuh': 1408, 'bete': 413, 'idupnya': 1257, 'rebah': 2835, 'hape': 1139, 'repeat': 2863, 'strategis': 3300, 'distensif': 803, 'diskus': 800, 'pandang': 2493, 'narasumber': 2285, 'irvan': 1334, 'afriandi': 40, 'grad': 1071, 'dipl': 779, 'oeh': 2421, 'mph': 2204, 'selaku': 3072, 'dekan': 714, 'fakultas': 925, 'unpad': 3697, 'belok': 372, 'ngegame': 2320, 'ngerti': 2335, 'trend': 3606, 'bnyk': 477, 'mksr': 2166, 'maki': 1978, 'kodong': 1682, 'sblum': 3021, 'wanita': 3768, 'praja': 2714, 'ipdn': 1332, 'pdui': 2562, 'who': 3797, 'livestreaming': 1908, 'item': 1350, 'lowong': 1923, 'utang': 3721, 'kpn': 1741, 'brp': 513, 'gtu': 1079, 'cetus': 599, 'dadak': 671, 'sosio': 3260, 'bambanglipuro': 285, 'pudar': 2758, 'heuheu': 1181, 'puluh': 2767, 'hivaids': 1206, 'ngejauhin': 2321, 'meski': 2124, 'keringetan': 1621, 'sarung': 3001, 'ace': 14, 'an': 132, 'pendek': 2585, 'ikea': 1265, 'berantas': 391, 'tetep': 3508, 'stock': 3295, 'yupi': 3856, 'hepi': 1177, 'teruss': 3501, 'ajaaa': 54, 'datuk': 702, 'noor': 2379, 'hisham': 1203, 'abdullah': 8, 'menara': 2091, 'plaza': 2664, 'city': 618, 'sesetangah': 3146, 'shop': 3166, 'tangangi': 3406, 'renault': 2857, 'karyawan': 1537, 'muhammadiyah': 2225, 'inggris': 1312, 'voluntarisme': 3747, 'rajalela': 2796, 'motivator': 2202, 'tung': 3648, 'desem': 737, 'waringin': 3775, 'yb': 3840, 'lembaga': 1870, 'nafkah': 2264, 'prcuma': 2715, 'yarabbi': 3835, 'mahukan': 1961, 'banteras': 300, 'pobia': 2677, 'mantan': 2015, 'manteman': 2017, 'move': 2203, 'indihome': 1293, 'bahu': 271, 'kawan': 1552, 'skripsi': 3221, 'disaster': 786, 'bljr': 467, 'utama': 3720, 'kueh': 1768, 'projek': 2734, 'benda': 379, 'belia': 368, 'harmoni': 1146, 'impak': 1280, 'mahasiswajangan': 1957, 'peluang': 2573, 'ukhuwah': 3679, 'pontang': 2693, 'panting': 2517, 'koyak': 1738, 'alaaaa': 83, 'bosan': 492, 'laaa': 1793, 'geng': 1027, 'doctor': 822, 'leh': 1864, 'pikiaq': 2638}\n"
     ]
    }
   ],
   "source": [
    "#print(vectorizer.get_feature_names())\n",
    "print(vectorizer.vocabulary_)\n"
   ]
  },
  {
   "cell_type": "code",
   "execution_count": 25,
   "metadata": {},
   "outputs": [
    {
     "name": "stdout",
     "output_type": "stream",
     "text": [
      "['aa' 'aamiin' 'aamiingimana' ... 'zmn' 'zona' 'zone']\n"
     ]
    }
   ],
   "source": [
    "feature_names = vectorizer.get_feature_names_out()\n",
    "print(feature_names)\n"
   ]
  },
  {
   "cell_type": "code",
   "execution_count": 18,
   "metadata": {},
   "outputs": [
    {
     "name": "stdout",
     "output_type": "stream",
     "text": [
      "[[0 0 0 ... 0 0 0]\n",
      " [0 0 0 ... 0 0 0]\n",
      " [0 0 0 ... 0 0 0]\n",
      " ...\n",
      " [0 0 0 ... 0 0 0]\n",
      " [0 0 0 ... 0 0 0]\n",
      " [0 0 0 ... 0 0 0]]\n"
     ]
    }
   ],
   "source": [
    "print(X.toarray())"
   ]
  },
  {
   "cell_type": "code",
   "execution_count": 19,
   "metadata": {},
   "outputs": [],
   "source": [
    "vectorizer2 = CountVectorizer(analyzer='word', ngram_range=(2, 2))"
   ]
  },
  {
   "cell_type": "code",
   "execution_count": 20,
   "metadata": {},
   "outputs": [],
   "source": [
    "X2 = vectorizer2.fit_transform(dataset_feature)"
   ]
  },
  {
   "cell_type": "code",
   "execution_count": 28,
   "metadata": {},
   "outputs": [
    {
     "name": "stdout",
     "output_type": "stream",
     "text": [
      "['aa warga' 'aamiin aamiin' 'aamiin gimana' ... 'zmn pkp' 'zona hijau'\n",
      " 'zone covid']\n"
     ]
    }
   ],
   "source": [
    "#print(vectorizer2.get_feature_names())\n",
    "feature_names = vectorizer2.get_feature_names_out()\n",
    "print(feature_names)\n"
   ]
  },
  {
   "cell_type": "code",
   "execution_count": 23,
   "metadata": {},
   "outputs": [
    {
     "name": "stdout",
     "output_type": "stream",
     "text": [
      "[[0 0 0 ... 0 0 0]\n",
      " [0 0 0 ... 0 0 0]\n",
      " [0 0 0 ... 0 0 0]\n",
      " ...\n",
      " [0 0 0 ... 0 0 0]\n",
      " [0 0 0 ... 0 0 0]\n",
      " [0 0 0 ... 0 0 0]]\n"
     ]
    }
   ],
   "source": [
    "print(X2.toarray())"
   ]
  },
  {
   "cell_type": "markdown",
   "metadata": {},
   "source": [
    "### Simulasi Corpus"
   ]
  },
  {
   "cell_type": "code",
   "execution_count": 29,
   "metadata": {},
   "outputs": [],
   "source": [
    "corpus = [\n",
    "    'This is the first Document.',\n",
    "    'This document is the second document.',\n",
    "    'And this is the third one.',\n",
    "    'Is this the first document?',\n",
    "]"
   ]
  },
  {
   "cell_type": "code",
   "execution_count": 30,
   "metadata": {},
   "outputs": [],
   "source": [
    "vectorizer = CountVectorizer()"
   ]
  },
  {
   "cell_type": "code",
   "execution_count": 31,
   "metadata": {},
   "outputs": [],
   "source": [
    "Z = vectorizer.fit_transform(corpus)"
   ]
  },
  {
   "cell_type": "code",
   "execution_count": 32,
   "metadata": {},
   "outputs": [
    {
     "data": {
      "text/plain": [
       "array(['and', 'document', 'first', 'is', 'one', 'second', 'the', 'third',\n",
       "       'this'], dtype=object)"
      ]
     },
     "execution_count": 32,
     "metadata": {},
     "output_type": "execute_result"
    }
   ],
   "source": [
    "vectorizer.get_feature_names_out()"
   ]
  },
  {
   "cell_type": "code",
   "execution_count": 33,
   "metadata": {},
   "outputs": [
    {
     "name": "stdout",
     "output_type": "stream",
     "text": [
      "[[0 1 1 1 0 0 1 0 1]\n",
      " [0 2 0 1 0 1 1 0 1]\n",
      " [1 0 0 1 1 0 1 1 1]\n",
      " [0 1 1 1 0 0 1 0 1]]\n"
     ]
    }
   ],
   "source": [
    "print(Z.toarray())"
   ]
  },
  {
   "cell_type": "code",
   "execution_count": 34,
   "metadata": {},
   "outputs": [],
   "source": [
    "vectorizer2 = CountVectorizer(analyzer='word', ngram_range=(2, 2))"
   ]
  },
  {
   "cell_type": "code",
   "execution_count": 35,
   "metadata": {},
   "outputs": [],
   "source": [
    "Z2 = vectorizer2.fit_transform(corpus)"
   ]
  },
  {
   "cell_type": "code",
   "execution_count": 36,
   "metadata": {},
   "outputs": [
    {
     "data": {
      "text/plain": [
       "array(['and this', 'document is', 'first document', 'is the', 'is this',\n",
       "       'second document', 'the first', 'the second', 'the third',\n",
       "       'third one', 'this document', 'this is', 'this the'], dtype=object)"
      ]
     },
     "execution_count": 36,
     "metadata": {},
     "output_type": "execute_result"
    }
   ],
   "source": [
    "vectorizer2.get_feature_names_out()"
   ]
  },
  {
   "cell_type": "code",
   "execution_count": 37,
   "metadata": {},
   "outputs": [
    {
     "name": "stdout",
     "output_type": "stream",
     "text": [
      "[[0 0 1 1 0 0 1 0 0 0 0 1 0]\n",
      " [0 1 0 1 0 1 0 1 0 0 1 0 0]\n",
      " [1 0 0 1 0 0 0 0 1 1 0 1 0]\n",
      " [0 0 1 0 1 0 1 0 0 0 0 0 1]]\n"
     ]
    }
   ],
   "source": [
    "print(Z2.toarray())"
   ]
  }
 ],
 "metadata": {
  "kernelspec": {
   "display_name": "Python 3 (ipykernel)",
   "language": "python",
   "name": "python3"
  },
  "language_info": {
   "codemirror_mode": {
    "name": "ipython",
    "version": 3
   },
   "file_extension": ".py",
   "mimetype": "text/x-python",
   "name": "python",
   "nbconvert_exporter": "python",
   "pygments_lexer": "ipython3",
   "version": "3.11.3"
  }
 },
 "nbformat": 4,
 "nbformat_minor": 4
}
